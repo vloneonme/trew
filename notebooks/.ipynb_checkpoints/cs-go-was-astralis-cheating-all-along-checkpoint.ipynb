{
 "cells": [
  {
   "cell_type": "markdown",
   "metadata": {},
   "source": [
    "<div style=\"text-align:center;\"><img src=\"https://i.postimg.cc/MKkMtzBK/123.png\" width=\"540px\"></div>"
   ]
  },
  {
   "cell_type": "markdown",
   "metadata": {},
   "source": [
    "<h3 style='margin-bottom: 40px;'><b>Introduction</b></h3>\n",
    "\n",
    "<p style=\"text-align: justify; text-indent: 30px;\"><b style=\"color: #ED2023; font-size: 16px;\">Astralis</b> was born on January 18, 2016 in Denmark co-founded by former <b>Team SoloMid</b> CS:GO staff members Rene <b>\"cajunb\"</b> Borg, Finn <b>\"karrigan\"</b> Andersen, Nicolaj <b>\"dev1ce\"</b> Reedtz, Peter <b>\"dupreeh\"</b> Rasmussen and Andreas <b>\"Xyp9x\"</b> Hojsleth. Also joining the project as co-founders were investment group Sunstone Capital and Danish investor Tommy Ahlers, who provided funding for the new team. Danny <b>\"zonic\"</b> Sørensen was also brought on board at this time as the team's coach.</p>\n",
    "\n",
    "<p style=\"text-align: justify; text-indent: 30px;\"><b style=\"color: #ED2023; font-size: 16px;\">D</b>uring the first competitive months after the creation of the team, the results progressively worsened, a situation that caused Rene \"cajunb\" Borg to be replaced on May 19, 2016 by Markus <b>\"Kjaerbye\"</b> Kjærbye, a player from <b>Dignitas</b>. Despite the change, the team failed to raise its head. A major change took place at Astralis in October 2016 as Karrigan was transferred to <b>FaZe Clan</b> around this time and Lukas <b>\"gla1ve\"</b> Rossander joined the team. <br><br> <b style=\"color: #ED2023; font-size: 16px;\">A</b>fter the change, the first great success was not long in coming, since in December of that same year they achieved victory in the <b>ECS Season 2</b> finals and also reached the <b>ELEAGUE SEASON 2</b> Final, although they lost it against the team of Optical Gaming. Already in 2017 Astralis confirmed itself as the best team in the world by winning its first major, the <b>ELEAGUE Major 2017</b> (also known as Atlanta 2017), after beating the Polish team from Virtus Pro.</p>\n",
    "\n",
    "<p style=\"text-align: justify; text-indent: 30px;\"><b style=\"color: #ED2023; font-size: 16px;\">I</b>n 2017 the good results were extended until the middle of the year with the victory at <b>IEM Katowice 2017</b> and various podiums. With the drop in level at the beginning of 2018, Kjaerbye left the squad and Emil <b>\"Magisk\"</b> Reif joined the team. With this change, <b>one of the best teams in the history of Counter-Strike</b> is formed, topping the HLTV world rankings for more than a year, from April 23, 2018 to May 27, 2019, the <b>Astralis Era</b>. <br><br> <b style=\"color: #ED2023; font-size: 16px;\">I</b>n this period of time Astralis added 2 consecutive majors, the <b>FACEIT Major 2018</b> and the <b>IEM Katowice 2019</b>, to which are added other top-level competitions such as the <b>ECS Season 6</b> Finals, the <b>ESL Pro League Season 8</b> Finals, the <b>IEM Chicago 2018</b> or the <b>BLAST Pro Series Lisbon 2018</b>.</p>\n",
    "\n",
    "<p style=\"text-align: justify; text-indent: 30px;\"><b style=\"color: #ED2023; font-size: 16px;\">D</b>uring the spring and summer of 2019 Astralis decided not to attend several top-level tournaments such as <b>DreamHack Masters Dallas</b>, which led to Team Liquid occupying their place as the best team in the world. For the <b>StarLadder Major Berlin 2019</b> the team arrived with a streak of poor results, but Astralis was crowned the winner for the 4th time, 3rd in a row, of a Counter-Strike major after a great tournament where they did not give up any maps.</p>\n",
    "\n",
    "<iframe width=\"560\" height=\"315\" src=\"https://www.youtube.com/embed/aPRPQObRcbI\" title=\"YouTube video player\" frameborder=\"0\" allow=\"accelerometer; autoplay; clipboard-write; encrypted-media; gyroscope; picture-in-picture; web-share\" allowfullscreen></iframe>\n",
    "\n",
    "<h5 style = 'margin-top: 80px;'>And of course, their amazing grenade stacks...</h5>\n",
    "\n",
    "<iframe width=\"560\" height=\"315\" src=\"https://www.youtube.com/embed/rn6Nia7pi2Q\" title=\"YouTube video player\" frameborder=\"0\" allow=\"accelerometer; autoplay; clipboard-write; encrypted-media; gyroscope; picture-in-picture; web-share\" allowfullscreen></iframe>\n",
    "\n",
    "<h3 style = 'margin-top: 40px;'>Now... Let's ChatGPT-it-out!</h3>\n",
    "\n",
    "<p style=\"text-align: justify; text-indent: 30px;\"><b style=\"color: #ED2023; font-size: 16px;\">W</b>hen asking ChatGPT about Astralis' performance during 2.020, this is it's response:</p>\n",
    "\n",
    "<p style=\"text-align: justify; text-indent: 30px; font-style: italic;\">Astralis, a Danish esports organization known for their success in the Counter-Strike: Global Offensive (CS:GO) scene, had a relatively quiet year in 2020. Despite winning several tournaments early in the year, the team struggled with inconsistent performances and roster changes, causing them to fall in the rankings. The global COVID-19 pandemic also affected their schedule, with many tournaments being postponed or cancelled. Despite these challenges, Astralis remained a competitive team and continued to perform at a high level in online tournaments.</p>\n",
    "\n",
    "<h3 style = 'margin-top: 40px;'>Now... I talk it out!</h3>\n",
    "\n",
    "<p style=\"text-align: justify; text-indent: 30px;\"><b style=\"color: #ED2023; font-size: 16px;\">S</b>o... Being a <b>HUGE</b> fan of the team, of course, seing their performance during their 3 previous years, when 2.020 started... And specially with the COVID-19 pandemic, the tournaments became:</p><ul><li>More frecuent</li><li>Online</li></ul>\n",
    "\n",
    "<p style=\"text-align: justify; text-indent: 30px;\"><b style=\"color: #ED2023; font-size: 16px;\">O</b>f course, I was more than excited to see my team play. After all, when your team is winning, do you ever complain? Do you ever wonder if there's something wrong?... Neither did I follow them on social media, or anything, since I'm not that much of a social media guy. So, if anything suspicious might arise regarding their performance in the previous years, I would probably be the last guy to know about it, unless there was a well-known YouTuber talking about it, such as <b>WarOwl</b>, <b>3kliksphilip</b> or <b>Tyler McVicker</b>.</p>\n",
    "\n",
    "<p style=\"text-align: justify; text-indent: 30px;\"><b style=\"color: #ED2023; font-size: 16px;\">S</b>o, 2.020 rolled, and Astralis was struggling in a way that seemed a bit out of proportion. I could barely believe they were the same tame as the previous year. The same line-up that had turned them into the first \"team\", instead of a single-amazing-fragger plus 4 (cough... cough... 2019's NAVi). Everyone was there, yet, their <b>INCREDIBLE</b> grenade stacks, or site-taking strategies that were always perfectly planned, were kind of not working anymore.</p>\n",
    "\n",
    "<p style=\"text-align: justify; text-indent: 30px;\"><b style=\"color: #ED2023; font-size: 16px;\">Y</b>ou can't be the <b>best</b> on something forever, cause of course, you inspire other people to become better and, even more when talking about teams, they will study your very moves trying to either, cut them from scratch or perhaps imitate and even improve them. In other words, it was expected that teams would figure out a way to face them. Still, such a sudden change, was surprising to say the least. Until in August...</p>\n",
    "\n",
    "\n",
    "<iframe width=\"560\" height=\"315\" src=\"https://www.youtube.com/embed/MMEmdoioYrY\" title=\"YouTube video player\" frameborder=\"0\" allow=\"accelerometer; autoplay; clipboard-write; encrypted-media; gyroscope; picture-in-picture; web-share\" allowfullscreen></iframe>\n",
    "\n",
    "<p style=\"text-align: justify; text-indent: 30px;\"><b style=\"color: #ED2023; font-size: 16px;\">I</b>t got me wondering... Since, apparently out of my reach, people in CS communities had been talking about it for a while... Was it possible that Astralis had been taking advantage of this exploit? Would that make sense? <br><br> <b style=\"color: #ED2023; font-size: 16px;\">B</b>ack then, I wasn't into Data Analysis to take an objective analysis... But now I am... <b>So let's get into it</b>,</p>"
   ]
  },
  {
   "cell_type": "markdown",
   "metadata": {},
   "source": [
    "<h3><b>Libraries</b></h3>"
   ]
  },
  {
   "cell_type": "code",
   "execution_count": 1,
   "metadata": {
    "_cell_guid": "b1076dfc-b9ad-4769-8c92-a6c4dae69d19",
    "_uuid": "8f2839f25d086af736a60e9eeb907d3b93b6e0e5"
   },
   "outputs": [
    {
     "ename": "ModuleNotFoundError",
     "evalue": "No module named 'numpy'",
     "output_type": "error",
     "traceback": [
      "\u001b[0;31m---------------------------------------------------------------------------\u001b[0m",
      "\u001b[0;31mModuleNotFoundError\u001b[0m                       Traceback (most recent call last)",
      "Cell \u001b[0;32mIn[1], line 2\u001b[0m\n\u001b[1;32m      1\u001b[0m \u001b[38;5;28;01mimport\u001b[39;00m \u001b[38;5;21;01mdatetime\u001b[39;00m \u001b[38;5;28;01mas\u001b[39;00m \u001b[38;5;21;01mdt\u001b[39;00m\n\u001b[0;32m----> 2\u001b[0m \u001b[38;5;28;01mimport\u001b[39;00m \u001b[38;5;21;01mnumpy\u001b[39;00m \u001b[38;5;28;01mas\u001b[39;00m \u001b[38;5;21;01mnp\u001b[39;00m \n\u001b[1;32m      3\u001b[0m \u001b[38;5;28;01mimport\u001b[39;00m \u001b[38;5;21;01mpandas\u001b[39;00m \u001b[38;5;28;01mas\u001b[39;00m \u001b[38;5;21;01mpd\u001b[39;00m \n\u001b[1;32m      4\u001b[0m \u001b[38;5;28;01mimport\u001b[39;00m \u001b[38;5;21;01mmatplotlib\u001b[39;00m\u001b[38;5;21;01m.\u001b[39;00m\u001b[38;5;21;01mpyplot\u001b[39;00m \u001b[38;5;28;01mas\u001b[39;00m \u001b[38;5;21;01mplt\u001b[39;00m\n",
      "\u001b[0;31mModuleNotFoundError\u001b[0m: No module named 'numpy'"
     ]
    }
   ],
   "source": [
    "import datetime as dt\n",
    "import numpy as np \n",
    "import pandas as pd \n",
    "import matplotlib.pyplot as plt\n",
    "import matplotlib.dates as mdates\n",
    "from matplotlib.pyplot import figure\n",
    "plt.style.use('default')\n",
    "%matplotlib inline\n",
    "\n",
    "import s3fs\n",
    "\n",
    "# Подключение к MinIO\n",
    "fs = s3fs.S3FileSystem(\n",
    "    key='admin',\n",
    "    secret='1qaz2wsx',\n",
    "    client_kwargs={'endpoint_url': 'http://minio:9000'}\n",
    ")\n",
    "\n",
    "# Название бакета\n",
    "bucket = 'vedro-s-datoy'\n",
    "\n",
    "# Получаем список CSV-файлов в бакете\n",
    "files = fs.ls(bucket)\n",
    "print(\"Файлы в бакете:\", files)\n",
    "\n",
    "# Чтение CSV и вывод первых строк\n",
    "for f in files:\n",
    "    if f.endswith('.csv'):\n",
    "        df = pd.read_csv(\n",
    "            f,\n",
    "            storage_options={\n",
    "                'key':'admin',\n",
    "                'secret':'1qaz2wsx',\n",
    "                'client_kwargs':{'endpoint_url':'http://minio:9000'}\n",
    "            }\n",
    "        )\n",
    "        print(f\"\\n=== {f} ===\")\n",
    "        print(df.head())\n",
    "\n",
    "df = pd.read_csv(\n",
    "    's3://vedro-s-datoy/results.csv',\n",
    "    storage_options={\n",
    "        'key':'admin',\n",
    "        'secret':'1qaz2wsx',\n",
    "        'client_kwargs':{'endpoint_url':'http://minio:9000'}\n",
    "    }\n",
    ")\n",
    "\n",
    "df2 = pd.read_csv(\n",
    "    's3://vedro-s-datoy/players.csv',\n",
    "    storage_options={\n",
    "        'key':'admin',\n",
    "        'secret':'1qaz2wsx',\n",
    "        'client_kwargs':{'endpoint_url':'http://minio:9000'}\n",
    "    }\n",
    ")"
   ]
  },
  {
   "cell_type": "markdown",
   "metadata": {},
   "source": [
    "<h3 style='margin-bottom: 40px;'><b>DataSets</b></h3>\n",
    "\n",
    "* [CS:GO Professional Matches](https://www.kaggle.com/datasets/mateusdmachado/csgo-professional-matches) from [MATEUS DAUERNHEIMER MACHADO](https://www.kaggle.com/mateusdmachado)\n",
    "\n",
    "* [counter-strike-global-offensive-matches](https://www.kaggle.com/datasets/gabrieltardochi/counter-strike-global-offensive-matches) from [Gabriel Tardochi Salles](https://www.kaggle.com/gabrieltardochi)\n",
    "\n",
    "<p style=\"text-align: justify; margin-top: 20px;\"><b style=\"color: #ED2023; font-size: 16px;\">I</b> used both, since Mateu's library contained data on professional matches until March 2.020, and the coach bug was publicly acknowledge in August 2.020. So, searching through <b style=\"color: #5ebefe;\">Kaggle</b> I ran into Gabriel's dataset wich contained information until December 2.020.</p>\n"
   ]
  },
  {
   "cell_type": "markdown",
   "metadata": {},
   "source": [
    "<h3><b>Preparing the Data</b></h3>"
   ]
  },
  {
   "cell_type": "code",
   "execution_count": null,
   "metadata": {
    "execution": {
     "iopub.execute_input": "2023-02-09T09:48:45.770567Z",
     "iopub.status.busy": "2023-02-09T09:48:45.770207Z",
     "iopub.status.idle": "2023-02-09T09:48:46.02129Z",
     "shell.execute_reply": "2023-02-09T09:48:46.020101Z",
     "shell.execute_reply.started": "2023-02-09T09:48:45.770535Z"
    }
   },
   "outputs": [],
   "source": []
  },
  {
   "cell_type": "code",
   "execution_count": null,
   "metadata": {
    "execution": {
     "iopub.execute_input": "2023-02-09T09:48:46.023236Z",
     "iopub.status.busy": "2023-02-09T09:48:46.022857Z",
     "iopub.status.idle": "2023-02-09T09:48:46.051814Z",
     "shell.execute_reply": "2023-02-09T09:48:46.050577Z",
     "shell.execute_reply.started": "2023-02-09T09:48:46.023204Z"
    }
   },
   "outputs": [],
   "source": []
  },
  {
   "cell_type": "markdown",
   "metadata": {},
   "source": [
    "<h3 style='margin-bottom: 40px;'><b>Cleaning the Data</b></h3>\n",
    "\n",
    "<p style=\"text-align: justify;\"><b style=\"color: #ED2023; font-size: 16px;\">A</b>fter looking at both of them, I checked upon the differences.</p>\n",
    "    <ol>\n",
    "    <li>I started with the columns I would keep from each dataset. Specially from the second dataset, from which I would only keep the data from the last date on the first dataset, which was March 19, 2.020.</li>\n",
    "    <li>I checked the format on the data, particularly the 'date' format, the 'strings' from which the information would come from.</li>\n",
    "    <li>The way the data should be interpreted.</li>\n",
    "    <li>Make sure both datasets are sorted in a similar way.</li>\n",
    "    </ol>\n",
    "        "
   ]
  },
  {
   "cell_type": "code",
   "execution_count": null,
   "metadata": {
    "execution": {
     "iopub.execute_input": "2023-02-09T09:48:46.054767Z",
     "iopub.status.busy": "2023-02-09T09:48:46.054062Z",
     "iopub.status.idle": "2023-02-09T09:48:46.315569Z",
     "shell.execute_reply": "2023-02-09T09:48:46.31442Z",
     "shell.execute_reply.started": "2023-02-09T09:48:46.05468Z"
    }
   },
   "outputs": [],
   "source": [
    "df['date'] = pd.to_datetime(df['date'], errors='coerce')\n",
    "df2['match_date'] = pd.to_datetime(df2['match_date'], errors='coerce')\n",
    "df2 = df2[~(df2['match_date'] < '2020-03-19')]\n",
    "df2.sort_values(by = 'match_date', ascending = True)"
   ]
  },
  {
   "cell_type": "markdown",
   "metadata": {},
   "source": [
    "<p style=\"text-align: justify;\"><b style=\"color: #ED2023; font-size: 16px;\">I</b> got rid of all the columns that weren't of my interest in this particular case. Also, to avoid any confusions, made sure the strings in both datasets were set to uppercase.</p>"
   ]
  },
  {
   "cell_type": "code",
   "execution_count": null,
   "metadata": {
    "execution": {
     "iopub.execute_input": "2023-02-09T09:48:46.318036Z",
     "iopub.status.busy": "2023-02-09T09:48:46.317262Z",
     "iopub.status.idle": "2023-02-09T09:48:46.372698Z",
     "shell.execute_reply": "2023-02-09T09:48:46.371502Z",
     "shell.execute_reply.started": "2023-02-09T09:48:46.317986Z"
    }
   },
   "outputs": [],
   "source": [
    "df2 = df2[['match_date', 'team_1', 'team_2', 'winner']]\n",
    "df2.columns = ['date', 'team_1', 'team_2', 'match_winner']\n",
    "df2['match_winner'] = df2['match_winner'].str[1:]\n",
    "df = df[['date', 'team_1', 'team_2', 'match_winner']]\n",
    "df['team_1'] = df['team_1'].str.upper()\n",
    "df['team_2'] = df['team_2'].str.upper()"
   ]
  },
  {
   "cell_type": "markdown",
   "metadata": {},
   "source": [
    "<p style=\"text-align: justify;\"><b style=\"color: #ED2023; font-size: 16px;\">N</b>ow we're good to merge (concatenate, in this case) both datasets, reset the index, and then sort the information on ascending date.</p>"
   ]
  },
  {
   "cell_type": "code",
   "execution_count": null,
   "metadata": {
    "execution": {
     "iopub.execute_input": "2023-02-09T09:48:46.374563Z",
     "iopub.status.busy": "2023-02-09T09:48:46.374185Z",
     "iopub.status.idle": "2023-02-09T09:48:46.404865Z",
     "shell.execute_reply": "2023-02-09T09:48:46.404056Z",
     "shell.execute_reply.started": "2023-02-09T09:48:46.374528Z"
    }
   },
   "outputs": [],
   "source": [
    "df = pd.concat([df, df2])\n",
    "df.reset_index(inplace = True)\n",
    "df.sort_values(by = 'date', ascending = True)"
   ]
  },
  {
   "cell_type": "code",
   "execution_count": null,
   "metadata": {
    "execution": {
     "iopub.execute_input": "2023-02-09T09:48:46.406869Z",
     "iopub.status.busy": "2023-02-09T09:48:46.405916Z",
     "iopub.status.idle": "2023-02-09T09:48:46.423496Z",
     "shell.execute_reply": "2023-02-09T09:48:46.422694Z",
     "shell.execute_reply.started": "2023-02-09T09:48:46.406835Z"
    }
   },
   "outputs": [],
   "source": [
    "df"
   ]
  },
  {
   "cell_type": "markdown",
   "metadata": {},
   "source": [
    "<p style=\"text-align: justify;\"><b style=\"color: #ED2023; font-size: 16px;\">O</b>nce the datasets are properly concatenated, we got rid of all the matches in which Astralis wasn't a part of.</p>"
   ]
  },
  {
   "cell_type": "code",
   "execution_count": null,
   "metadata": {
    "execution": {
     "iopub.execute_input": "2023-02-09T09:48:46.425881Z",
     "iopub.status.busy": "2023-02-09T09:48:46.424565Z",
     "iopub.status.idle": "2023-02-09T09:48:46.456177Z",
     "shell.execute_reply": "2023-02-09T09:48:46.454931Z",
     "shell.execute_reply.started": "2023-02-09T09:48:46.425833Z"
    }
   },
   "outputs": [],
   "source": [
    "df = df.loc[(df['team_1'] == \"ASTRALIS\") | (df['team_2'] == \"ASTRALIS\")]\n",
    "df"
   ]
  },
  {
   "cell_type": "markdown",
   "metadata": {},
   "source": [
    "<h3 style='margin-bottom: 40px;'><b>Making Data out of the Data</b></h3>\n",
    "\n",
    "<p style=\"text-align: justify;\"><b style=\"color: #ED2023; font-size: 16px;\">T</b>hankfully, both of the datasets, follow the same pattern on how to assign the winner of the match, wich is, the <b>'match winner'</b> has a number wich coincides with the name of the match winner, on the <b>'team'</b> column name. So I created a new column <b>'w/l'</b> which, in case of winning would be assigned 'w' to the row, and 'l' in case of loosing, to make it easier to count after.</p>\n",
    "\n",
    "\n"
   ]
  },
  {
   "cell_type": "code",
   "execution_count": null,
   "metadata": {
    "execution": {
     "iopub.execute_input": "2023-02-09T09:48:46.459961Z",
     "iopub.status.busy": "2023-02-09T09:48:46.45959Z",
     "iopub.status.idle": "2023-02-09T09:48:46.471615Z",
     "shell.execute_reply": "2023-02-09T09:48:46.47003Z",
     "shell.execute_reply.started": "2023-02-09T09:48:46.459926Z"
    }
   },
   "outputs": [],
   "source": [
    "df['w/l'] = np.where((df['team_1'] == 'ASTRALIS') & (df['match_winner'] == 1) | (df['team_2'] == 'ASTRALIS') & (df['match_winner'] == 2), 'w', 'l')\n",
    "df = df.sort_values('date')"
   ]
  },
  {
   "cell_type": "markdown",
   "metadata": {},
   "source": [
    "<p style=\"text-align: justify;\"><b style=\"color: #ED2023; font-size: 16px;\">N</b>ext, I create a scoring system, which is pretty basic. By iterating through the <b>'w/l'</b> column, each time Astralis won, 1 point is added, if loosing, no point is assigned. Of course, we need to reset the information every year, so the variable <b>'points'</b> gets reset every year, while the list <b>'score'</b> get's the annual points appended.</p>"
   ]
  },
  {
   "cell_type": "code",
   "execution_count": null,
   "metadata": {
    "execution": {
     "iopub.execute_input": "2023-02-09T09:48:46.473926Z",
     "iopub.status.busy": "2023-02-09T09:48:46.473468Z",
     "iopub.status.idle": "2023-02-09T09:48:46.485842Z",
     "shell.execute_reply": "2023-02-09T09:48:46.484676Z",
     "shell.execute_reply.started": "2023-02-09T09:48:46.473884Z"
    }
   },
   "outputs": [],
   "source": [
    "score = []\n",
    "points = 0\n",
    "for i in df[df['date'].dt.year == 2016]['w/l']:\n",
    "    if i == 'w':\n",
    "        points = points + 1\n",
    "        score.append(points)\n",
    "    else:\n",
    "        points = points\n",
    "        score.append(points)"
   ]
  },
  {
   "cell_type": "code",
   "execution_count": null,
   "metadata": {
    "execution": {
     "iopub.execute_input": "2023-02-09T09:48:46.488483Z",
     "iopub.status.busy": "2023-02-09T09:48:46.487991Z",
     "iopub.status.idle": "2023-02-09T09:48:46.500595Z",
     "shell.execute_reply": "2023-02-09T09:48:46.499392Z",
     "shell.execute_reply.started": "2023-02-09T09:48:46.488439Z"
    }
   },
   "outputs": [],
   "source": [
    "points = 0\n",
    "for i in df[df['date'].dt.year == 2017]['w/l']:\n",
    "    if i == 'w':\n",
    "        points = points + 1\n",
    "        score.append(points)\n",
    "    else:\n",
    "        points = points\n",
    "        score.append(points)"
   ]
  },
  {
   "cell_type": "code",
   "execution_count": null,
   "metadata": {
    "execution": {
     "iopub.execute_input": "2023-02-09T09:48:46.504182Z",
     "iopub.status.busy": "2023-02-09T09:48:46.503093Z",
     "iopub.status.idle": "2023-02-09T09:48:46.513484Z",
     "shell.execute_reply": "2023-02-09T09:48:46.512216Z",
     "shell.execute_reply.started": "2023-02-09T09:48:46.504119Z"
    }
   },
   "outputs": [],
   "source": [
    "points = 0\n",
    "for i in df[df['date'].dt.year == 2018]['w/l']:\n",
    "    if i == 'w':\n",
    "        points = points + 1\n",
    "        score.append(points)\n",
    "    else:\n",
    "        points = points\n",
    "        score.append(points)"
   ]
  },
  {
   "cell_type": "code",
   "execution_count": null,
   "metadata": {
    "execution": {
     "iopub.execute_input": "2023-02-09T09:48:46.515177Z",
     "iopub.status.busy": "2023-02-09T09:48:46.514826Z",
     "iopub.status.idle": "2023-02-09T09:48:46.524469Z",
     "shell.execute_reply": "2023-02-09T09:48:46.523531Z",
     "shell.execute_reply.started": "2023-02-09T09:48:46.515125Z"
    }
   },
   "outputs": [],
   "source": [
    "points = 0\n",
    "for i in df[df['date'].dt.year == 2019]['w/l']:\n",
    "    if i == 'w':\n",
    "        points = points + 1\n",
    "        score.append(points)\n",
    "    else:\n",
    "        points = points\n",
    "        score.append(points)"
   ]
  },
  {
   "cell_type": "code",
   "execution_count": null,
   "metadata": {
    "execution": {
     "iopub.execute_input": "2023-02-09T09:48:46.52705Z",
     "iopub.status.busy": "2023-02-09T09:48:46.52594Z",
     "iopub.status.idle": "2023-02-09T09:48:46.536816Z",
     "shell.execute_reply": "2023-02-09T09:48:46.53597Z",
     "shell.execute_reply.started": "2023-02-09T09:48:46.527014Z"
    }
   },
   "outputs": [],
   "source": [
    "points = 0\n",
    "for i in df[df['date'].dt.year == 2020]['w/l']:\n",
    "    if i == 'w':\n",
    "        points = points + 1\n",
    "        score.append(points)\n",
    "    else:\n",
    "        points = points\n",
    "        score.append(points)"
   ]
  },
  {
   "cell_type": "markdown",
   "metadata": {},
   "source": [
    "<p style=\"text-align: justify;\"><b style=\"color: #ED2023; font-size: 16px;\">A</b>nd we integrate the 'score' list, as a new column <b>score</b> to de dataframe.</p>"
   ]
  },
  {
   "cell_type": "code",
   "execution_count": null,
   "metadata": {
    "execution": {
     "iopub.execute_input": "2023-02-09T09:48:46.538411Z",
     "iopub.status.busy": "2023-02-09T09:48:46.537941Z",
     "iopub.status.idle": "2023-02-09T09:48:46.561864Z",
     "shell.execute_reply": "2023-02-09T09:48:46.560764Z",
     "shell.execute_reply.started": "2023-02-09T09:48:46.538366Z"
    }
   },
   "outputs": [],
   "source": [
    "df['score'] = score\n",
    "df.reset_index(inplace=True)\n",
    "df = df.drop(columns=[\"index\", \"level_0\"])\n",
    "df"
   ]
  },
  {
   "cell_type": "markdown",
   "metadata": {},
   "source": [
    "<p style=\"text-align: justify;\"><b style=\"color: #ED2023; font-size: 16px;\">F</b>inally, we loop through the data, comparing the total matches played on the won matches, to create a percentage of won matches, which as we did with the <b>score</b> list, is being appended to a <b>won_percent</b> list, that will be added as a <b>won</b> column to the df.</p>"
   ]
  },
  {
   "cell_type": "code",
   "execution_count": null,
   "metadata": {
    "execution": {
     "iopub.execute_input": "2023-02-09T09:48:46.563903Z",
     "iopub.status.busy": "2023-02-09T09:48:46.563461Z",
     "iopub.status.idle": "2023-02-09T09:48:46.57299Z",
     "shell.execute_reply": "2023-02-09T09:48:46.571765Z",
     "shell.execute_reply.started": "2023-02-09T09:48:46.563862Z"
    }
   },
   "outputs": [],
   "source": [
    "won_percent = []\n",
    "matches_played = 0\n",
    "unit = 0\n",
    "for i in df[df['date'].dt.year == 2016]['score']:\n",
    "    matches_played += 1\n",
    "    unit = (i * 100) / matches_played\n",
    "    won_percent.append(unit)"
   ]
  },
  {
   "cell_type": "code",
   "execution_count": null,
   "metadata": {
    "execution": {
     "iopub.execute_input": "2023-02-09T09:48:46.575127Z",
     "iopub.status.busy": "2023-02-09T09:48:46.574738Z",
     "iopub.status.idle": "2023-02-09T09:48:46.584807Z",
     "shell.execute_reply": "2023-02-09T09:48:46.583702Z",
     "shell.execute_reply.started": "2023-02-09T09:48:46.575091Z"
    }
   },
   "outputs": [],
   "source": [
    "matches_played = 0\n",
    "unit = 0\n",
    "for i in df[df['date'].dt.year == 2017]['score']:\n",
    "    matches_played += 1\n",
    "    unit = (i * 100) / matches_played\n",
    "    won_percent.append(unit)"
   ]
  },
  {
   "cell_type": "code",
   "execution_count": null,
   "metadata": {
    "execution": {
     "iopub.execute_input": "2023-02-09T09:48:46.587095Z",
     "iopub.status.busy": "2023-02-09T09:48:46.58668Z",
     "iopub.status.idle": "2023-02-09T09:48:46.599978Z",
     "shell.execute_reply": "2023-02-09T09:48:46.598945Z",
     "shell.execute_reply.started": "2023-02-09T09:48:46.587052Z"
    }
   },
   "outputs": [],
   "source": [
    "matches_played = 0\n",
    "unit = 0\n",
    "for i in df[df['date'].dt.year == 2018]['score']:\n",
    "    matches_played += 1\n",
    "    unit = (i * 100) / matches_played\n",
    "    won_percent.append(unit)"
   ]
  },
  {
   "cell_type": "code",
   "execution_count": null,
   "metadata": {
    "execution": {
     "iopub.execute_input": "2023-02-09T09:48:46.602721Z",
     "iopub.status.busy": "2023-02-09T09:48:46.601588Z",
     "iopub.status.idle": "2023-02-09T09:48:46.612206Z",
     "shell.execute_reply": "2023-02-09T09:48:46.611211Z",
     "shell.execute_reply.started": "2023-02-09T09:48:46.602685Z"
    }
   },
   "outputs": [],
   "source": [
    "matches_played = 0\n",
    "unit = 0\n",
    "for i in df[df['date'].dt.year == 2019]['score']:\n",
    "    matches_played += 1\n",
    "    unit = (i * 100) / matches_played\n",
    "    won_percent.append(unit)"
   ]
  },
  {
   "cell_type": "code",
   "execution_count": null,
   "metadata": {
    "execution": {
     "iopub.execute_input": "2023-02-09T09:48:46.613731Z",
     "iopub.status.busy": "2023-02-09T09:48:46.613331Z",
     "iopub.status.idle": "2023-02-09T09:48:46.624672Z",
     "shell.execute_reply": "2023-02-09T09:48:46.623577Z",
     "shell.execute_reply.started": "2023-02-09T09:48:46.613689Z"
    }
   },
   "outputs": [],
   "source": [
    "matches_played = 0\n",
    "unit = 0\n",
    "for i in df[df['date'].dt.year == 2020]['score']:\n",
    "    matches_played += 1\n",
    "    unit = (i * 100) / matches_played\n",
    "    won_percent.append(unit)"
   ]
  },
  {
   "cell_type": "code",
   "execution_count": null,
   "metadata": {
    "execution": {
     "iopub.execute_input": "2023-02-09T09:48:46.626666Z",
     "iopub.status.busy": "2023-02-09T09:48:46.626196Z",
     "iopub.status.idle": "2023-02-09T09:48:46.634272Z",
     "shell.execute_reply": "2023-02-09T09:48:46.633282Z",
     "shell.execute_reply.started": "2023-02-09T09:48:46.626631Z"
    }
   },
   "outputs": [],
   "source": [
    "df['won'] = won_percent"
   ]
  },
  {
   "cell_type": "markdown",
   "metadata": {},
   "source": [
    "<h3 style='margin-bottom: 40px;'><b>Visualizing the Data</b></h3>\n",
    "\n",
    "<p style=\"text-align: justify;\"><b style=\"color: #ED2023; font-size: 16px;\">W</b>e separate the <b>'won'</b> data per year, and assign each to a different df, to be able to later visualize it as independent 'X axis'.</p>"
   ]
  },
  {
   "cell_type": "code",
   "execution_count": null,
   "metadata": {
    "execution": {
     "iopub.execute_input": "2023-02-09T09:48:46.636333Z",
     "iopub.status.busy": "2023-02-09T09:48:46.635932Z",
     "iopub.status.idle": "2023-02-09T09:48:46.676031Z",
     "shell.execute_reply": "2023-02-09T09:48:46.674918Z",
     "shell.execute_reply.started": "2023-02-09T09:48:46.636302Z"
    }
   },
   "outputs": [],
   "source": [
    "df_2016 = df.loc[df['date'].dt.year == 2016]\n",
    "df_2016['date'] = df_2016['date'].astype(str).str.replace('2016-', '2000-')\n",
    "df_2016['date'] = pd.to_datetime(df_2016['date'], infer_datetime_format=True)\n",
    "\n",
    "df_2017 = df.loc[df['date'].dt.year == 2017]\n",
    "df_2017['date'] = df_2017['date'].astype(str).str.replace('2017-', '2000-')\n",
    "df_2017['date'] = pd.to_datetime(df_2017['date'], infer_datetime_format=True)\n",
    "\n",
    "df_2018 = df.loc[df['date'].dt.year == 2018]\n",
    "df_2018['date'] = df_2018['date'].astype(str).str.replace('2018-', '2000-')\n",
    "df_2018['date'] = pd.to_datetime(df_2018['date'], infer_datetime_format=True)\n",
    "\n",
    "df_2019 = df.loc[df['date'].dt.year == 2019]\n",
    "df_2019['date'] = df_2019['date'].astype(str).str.replace('2019-', '2000-')\n",
    "df_2019['date'] = pd.to_datetime(df_2019['date'], infer_datetime_format=True)\n",
    "\n",
    "df_2020 = df.loc[df['date'].dt.year == 2020]\n",
    "df_2020['date'] = df_2020['date'].astype(str).str.replace('2020-', '2000-')\n",
    "df_2020['date'] = pd.to_datetime(df_2020['date'], infer_datetime_format=True)"
   ]
  },
  {
   "cell_type": "markdown",
   "metadata": {},
   "source": [
    "<p style=\"text-align: justify;\"><b style=\"color: #ED2023; font-size: 16px;\">A</b>nd we plot the results, assigning a lighter to darker tone going from oldest results to more recent, respectively. Finally, for the 2.020 data, we assing a red color, and a thicker line to be able to compare it properly with the rest. Also, we assign all the dates to a same year, to make it easier to plot.</p>"
   ]
  },
  {
   "cell_type": "code",
   "execution_count": null,
   "metadata": {
    "execution": {
     "iopub.execute_input": "2023-02-09T09:48:46.677868Z",
     "iopub.status.busy": "2023-02-09T09:48:46.677522Z",
     "iopub.status.idle": "2023-02-09T09:48:47.306026Z",
     "shell.execute_reply": "2023-02-09T09:48:47.304809Z",
     "shell.execute_reply.started": "2023-02-09T09:48:46.677838Z"
    }
   },
   "outputs": [],
   "source": [
    "plt.figure(figsize=(12, 4), dpi=300)\n",
    "\n",
    "plt.plot(df_2016['date'], df_2016['won'],label='2016', color='lightgrey', linewidth=0.6)\n",
    "plt.plot(df_2017['date'], df_2017['won'],label='2017', color='grey', linewidth=0.7)\n",
    "plt.plot(df_2018['date'], df_2018['won'],label='2018', color='dimgrey', linewidth=0.8)\n",
    "plt.plot(df_2019['date'], df_2019['won'],label='2019', color='black', linewidth=1)\n",
    "plt.plot(df_2020['date'], df_2020['won'],label='2020', color='red', linewidth=3)\n",
    "\n",
    "plt.gca().xaxis.set_major_locator(mdates.MonthLocator())\n",
    "plt.gca().xaxis.set_major_formatter(mdates.DateFormatter('%b'))\n",
    "plt.gca().spines['top'].set_visible(False)\n",
    "plt.gca().spines['right'].set_visible(False)\n",
    "plt.gca().spines['bottom'].set_visible(False)\n",
    "\n",
    "plt.ylabel('% Won/ Matches Played')\n",
    "\n",
    "plt.legend(loc='center right')"
   ]
  },
  {
   "cell_type": "markdown",
   "metadata": {},
   "source": [
    "<p style=\"text-align: justify;\"><b style=\"color: #ED2023; font-size: 16px;\">S</b>o we see that, clearly, 2.020 was a year in wich Astralis'performance, was extremely low, specially when comparing it to it's previous 2.019 outstanding performance. So, what could've happened? <br><br> <b style=\"color: #ED2023;\">L</b>et's add some valuable information from <a src=\"https://liquipedia.net/counterstrike/Astralis\"><b>Liquidpedia</b></a> to analyze the events that happened through-out 2.020. At the same time, I will also add other important events such as major CS:GO updates (in guns, server/performance), and of course, the discovery of the coach bug.</p>\n",
    "\n",
    "\n",
    "**Astralis Changes**\n",
    "* May 11th - Astralis sign JUGi.\n",
    "* May 19th - gla1ve is placed on medical leave.\n",
    "* May 28th - Xyp9x steps down from the active lineup and goes on leave.\n",
    "* July 1st - Astralis sign es3tag after his contract with Heroic comes to an end.\n",
    "* July 31st - Astralis release JUGi and acquire Bubzkji from MAD Lions.\n",
    "* September 3rd - gla1ve returns to the active roster.\n",
    "* October 5th - Xyp9x returns to the active roster.\n",
    "* October 25th - es3tag is acquired by Cloud9. \n",
    "* November 12th - Astralis sign VNG as assistant coach.\n",
    "\n",
    "**CS:GO Major Updates**\n",
    "* 29 January 2020 - Map Changes (Cache, Studio, Train, Dust II, Mirage)\n",
    "* 11 February 2020 - Communications Changes\n",
    "* 24 February 2020 - UI Changes\n",
    "* 25 February 2020 - Anti-Cheat Changes\n",
    "* 26 March 2020 - NVIDIA stutter fix\n",
    "* 31 March 2020 - NVIDIA Stutter Fix Beta\n",
    "* 4 April 2020 - New launch option for very old Intel hardware\n",
    "* 10 April 2020 \n",
    "    * Weapon Changes (SG 553, AUG, M4A1-S, Deagle, Tec-9, Bizon)\n",
    "    * Map Changes (Anubis, Inferno, Office, Overpass, Chlorine, Mirage)\n",
    "    * Misc Changes\n",
    "    * old_intel_perf_fix\n",
    "* 11 May 2020 - Pure Server Changes\n",
    "* 13 May 2020 - New experimental graphics setting\n",
    "\n",
    "**CS:GO Coach Bug**\n",
    "* Around August 20, 2.020"
   ]
  },
  {
   "cell_type": "code",
   "execution_count": null,
   "metadata": {
    "execution": {
     "iopub.execute_input": "2023-02-09T09:48:47.3125Z",
     "iopub.status.busy": "2023-02-09T09:48:47.312005Z",
     "iopub.status.idle": "2023-02-09T09:48:47.325437Z",
     "shell.execute_reply": "2023-02-09T09:48:47.324325Z",
     "shell.execute_reply.started": "2023-02-09T09:48:47.312452Z"
    }
   },
   "outputs": [],
   "source": [
    "df_2020 = df.loc[df['date'].dt.year == 2020]"
   ]
  },
  {
   "cell_type": "markdown",
   "metadata": {},
   "source": [
    "First, we turn the Astralis' Changes into a dataframe:"
   ]
  },
  {
   "cell_type": "code",
   "execution_count": null,
   "metadata": {
    "execution": {
     "iopub.execute_input": "2023-02-09T09:48:47.328007Z",
     "iopub.status.busy": "2023-02-09T09:48:47.326984Z",
     "iopub.status.idle": "2023-02-09T09:48:47.339064Z",
     "shell.execute_reply": "2023-02-09T09:48:47.337755Z",
     "shell.execute_reply.started": "2023-02-09T09:48:47.327949Z"
    }
   },
   "outputs": [],
   "source": [
    "astralis_changes = {'date': ['2020-5-7 ', '2020-5-19', '2020-5-28', '2020-7-1', '2020-7-31', '2020-9-3', '2020-10-5', '2020-10-25', '2020-11-12'], 'event_ac': ['JUGi signs','gla1ve leaves','Xyp9x leaves','es3tag signs','JUGi leaves and Bubzkji joins','gla1ve returns','Xyp9x returns','es3tag signs','VNG as assistant coach']}\n",
    "astralis_changes = pd.DataFrame.from_dict(astralis_changes)\n",
    "\n",
    "astralis_changes['date'] = pd.to_datetime(astralis_changes['date'])"
   ]
  },
  {
   "cell_type": "code",
   "execution_count": null,
   "metadata": {
    "execution": {
     "iopub.execute_input": "2023-02-09T09:48:47.341166Z",
     "iopub.status.busy": "2023-02-09T09:48:47.340807Z",
     "iopub.status.idle": "2023-02-09T09:48:47.349016Z",
     "shell.execute_reply": "2023-02-09T09:48:47.348174Z",
     "shell.execute_reply.started": "2023-02-09T09:48:47.341116Z"
    }
   },
   "outputs": [],
   "source": [
    "df_dict={'date':['2023-01-23T00:00:00-05:00','2023-01-24T00:00:00-05:00','2023-01-25T00:00:00-05:00','2023-01-26T00:00:00-05:00','2023-01-27T00:00:00-05:00','2023-01-30T00:00:00-05:00','2023-01-31T00:00:00-05:00','2023-02-01T00:00:00-05:00','2023-02-02T00:00:00-05:00','2023-02-03T00:00:00-05:00'], 'Close':['97.5199966430664','96.3199996948242','97.1800003051757','99.2200012207031','102.239997863769','100.550003051757','103.129997253417','105.150001525878','112.910003662109','103.389999389648']}\n",
    "df = pd.DataFrame.from_dict(df_dict)"
   ]
  },
  {
   "cell_type": "code",
   "execution_count": null,
   "metadata": {
    "execution": {
     "iopub.execute_input": "2023-02-09T09:48:47.350771Z",
     "iopub.status.busy": "2023-02-09T09:48:47.35027Z",
     "iopub.status.idle": "2023-02-09T09:48:47.366683Z",
     "shell.execute_reply": "2023-02-09T09:48:47.365237Z",
     "shell.execute_reply.started": "2023-02-09T09:48:47.350739Z"
    }
   },
   "outputs": [],
   "source": [
    "df"
   ]
  },
  {
   "cell_type": "markdown",
   "metadata": {},
   "source": [
    "Then the CS updates, including the Coach Bug Fix"
   ]
  },
  {
   "cell_type": "code",
   "execution_count": null,
   "metadata": {
    "execution": {
     "iopub.execute_input": "2023-02-09T09:48:47.368271Z",
     "iopub.status.busy": "2023-02-09T09:48:47.367915Z",
     "iopub.status.idle": "2023-02-09T09:48:47.381855Z",
     "shell.execute_reply": "2023-02-09T09:48:47.380591Z",
     "shell.execute_reply.started": "2023-02-09T09:48:47.36824Z"
    }
   },
   "outputs": [],
   "source": [
    "cs_updates = {'date': ['29 January 2020', '11 February 2020', '22 February 2020', '28 February 2020', '20 March 2020', '26 March 2020', '2 April 2020', '10 April 2020', '16 April 2020', '22 April 2020', '1 May 2020', '12 May 2020'], 'cs_update':['Map Changes (Cache, Studio, Train, Dust II, Mirage)', 'Communications Changes', 'UI Changes', 'Anti-Cheat Changes', 'NVIDIA stutter fix', 'NVIDIA Stutter Fix Beta', 'New launch option for old Intel hardware','Weapon Changes (SG 553, AUG, M4A1-S, Deagle, Tec-9, Bizon)','Map Changes (Anubis, Inferno, Office, Overpass, Chlorine, Mirage)', 'old_intel_perf_fix', 'Pure Server Changes', 'New experimental graphics setting']}\n",
    "cs_updates = pd.DataFrame.from_dict(cs_updates)\n",
    "\n",
    "cs_updates['date'] = pd.to_datetime(cs_updates['date'])\n",
    "cs_updates\n",
    "\n",
    "coach_bugg = {'date': ['20 August 2020'], 'coach_bug':['Michal Slowinski makes the Bug public']}\n",
    "coach_bugg = pd.DataFrame.from_dict(coach_bugg)\n",
    "\n",
    "coach_bugg['date'] = pd.to_datetime(coach_bugg['date'])"
   ]
  },
  {
   "cell_type": "code",
   "execution_count": null,
   "metadata": {
    "execution": {
     "iopub.execute_input": "2023-02-09T10:00:47.196688Z",
     "iopub.status.busy": "2023-02-09T10:00:47.196291Z",
     "iopub.status.idle": "2023-02-09T10:00:47.82623Z",
     "shell.execute_reply": "2023-02-09T10:00:47.824816Z",
     "shell.execute_reply.started": "2023-02-09T10:00:47.196656Z"
    }
   },
   "outputs": [],
   "source": [
    "fig, ax = plt.subplots(figsize=(14, 4), dpi=200)\n",
    "ax.plot(astralis_changes['date'], [1]*len(astralis_changes), 'o', label='Astralis Changes')\n",
    "ax.plot(cs_updates['date'], [2]*len(cs_updates), 'x', label='CS Updates')\n",
    "ax.plot(df_2020['date'], np.array(df_2020['won']), label='Won %', color='red', )\n",
    "ax.plot(coach_bugg['date'], [2]*len(coach_bugg), 'v', label='Coach Bug')\n",
    "\n",
    "y_pos = 3\n",
    "for i, txt in enumerate(astralis_changes['event_ac']):\n",
    "    ax.annotate(txt, (astralis_changes['date'][i], y_pos), fontsize=10, ha='left', va='bottom', rotation=90, \n",
    "                rotation_mode='anchor', xytext=(5,10), textcoords='offset points')\n",
    "\n",
    "for i, txt in enumerate(cs_updates['cs_update']):\n",
    "    ax.annotate(txt, (cs_updates['date'][i], y_pos), fontsize=10, ha='left', va='bottom', rotation=90, \n",
    "                rotation_mode='anchor', xytext=(5,10), textcoords='offset points')\n",
    "\n",
    "for i, txt in enumerate(coach_bugg['coach_bug']):\n",
    "    ax.annotate(txt, (coach_bugg['date'][i], y_pos), fontsize=12, ha='left', va='bottom', rotation=90, \n",
    "                rotation_mode='anchor', xytext=(8,10), textcoords='offset points')\n",
    "\n",
    "# Setting labels and title for the plot\n",
    "ax.set_xlabel('Date')\n",
    "\n",
    "\n",
    "plt.gca().xaxis.set_major_locator(mdates.MonthLocator())\n",
    "plt.gca().xaxis.set_major_formatter(mdates.DateFormatter('%b'))\n",
    "plt.gca().spines['top'].set_visible(False)\n",
    "plt.gca().spines['right'].set_visible(False)\n",
    "plt.gca().spines['bottom'].set_visible(False)\n",
    "# Show the plot\n",
    "plt.show()"
   ]
  },
  {
   "cell_type": "markdown",
   "metadata": {},
   "source": [
    "\n",
    "**ANTI-CHEAT**\n",
    "* Users can now report players from their own recently played matches provided the demo is viewed from the Watch Tab.\n",
    "* Matchmaking has been adjusted to increase the weight of Trust Factor. Users with High Trust who experience cheating in their matches going forward should report those experiences to CSGOTeamFeedback@valvesoftware.com with the subject “Cheating in High Trust Matches.” Please include a link to your steam community profile, approximate time of your match and which game mode you were playing.\n",
    "* Overwatch users should experience significantly fewer obvious spinbot cases."
   ]
  }
 ],
 "metadata": {
  "kaggle": {
   "accelerator": "none",
   "dataSources": [
    {
     "datasetId": 572655,
     "sourceId": 1037740,
     "sourceType": "datasetVersion"
    },
    {
     "datasetId": 1078116,
     "sourceId": 1814686,
     "sourceType": "datasetVersion"
    }
   ],
   "dockerImageVersionId": 30369,
   "isGpuEnabled": false,
   "isInternetEnabled": false,
   "language": "python",
   "sourceType": "notebook"
  },
  "kernelspec": {
   "display_name": "Python 3 (ipykernel)",
   "language": "python",
   "name": "python3"
  },
  "language_info": {
   "codemirror_mode": {
    "name": "ipython",
    "version": 3
   },
   "file_extension": ".py",
   "mimetype": "text/x-python",
   "name": "python",
   "nbconvert_exporter": "python",
   "pygments_lexer": "ipython3",
   "version": "3.11.6"
  }
 },
 "nbformat": 4,
 "nbformat_minor": 4
}
