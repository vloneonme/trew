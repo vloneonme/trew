{
 "cells": [
  {
   "cell_type": "code",
   "execution_count": null,
   "id": "c41189d3",
   "metadata": {
    "_cell_guid": "b1076dfc-b9ad-4769-8c92-a6c4dae69d19",
    "_uuid": "8f2839f25d086af736a60e9eeb907d3b93b6e0e5",
    "papermill": {
     "duration": 1.066753,
     "end_time": "2024-11-12T19:09:57.930175",
     "exception": false,
     "start_time": "2024-11-12T19:09:56.863422",
     "status": "completed"
    },
    "tags": []
   },
   "outputs": [],
   "source": []
  },
  {
   "cell_type": "code",
   "execution_count": 15,
   "id": "83288c72",
   "metadata": {
    "papermill": {
     "duration": 0.738886,
     "end_time": "2024-11-12T19:09:58.681921",
     "exception": false,
     "start_time": "2024-11-12T19:09:57.943035",
     "status": "completed"
    },
    "tags": []
   },
   "outputs": [
    {
     "name": "stdout",
     "output_type": "stream",
     "text": [
      "Размер датасета: (24905, 24)\n",
      "   anime_id                             Name             English name  \\\n",
      "0         1                     Cowboy Bebop             Cowboy Bebop   \n",
      "1         5  Cowboy Bebop: Tengoku no Tobira  Cowboy Bebop: The Movie   \n",
      "2         6                           Trigun                   Trigun   \n",
      "3         7               Witch Hunter Robin       Witch Hunter Robin   \n",
      "4         8                   Bouken Ou Beet   Beet the Vandel Buster   \n",
      "\n",
      "                         Other name Score  \\\n",
      "0                         カウボーイビバップ  8.75   \n",
      "1                    カウボーイビバップ 天国の扉  8.38   \n",
      "2                             トライガン  8.22   \n",
      "3  Witch Hunter ROBIN (ウイッチハンターロビン)  7.25   \n",
      "4                            冒険王ビィト  6.94   \n",
      "\n",
      "                                 Genres  \\\n",
      "0         Action, Award Winning, Sci-Fi   \n",
      "1                        Action, Sci-Fi   \n",
      "2             Action, Adventure, Sci-Fi   \n",
      "3  Action, Drama, Mystery, Supernatural   \n",
      "4      Adventure, Fantasy, Supernatural   \n",
      "\n",
      "                                            Synopsis   Type Episodes  \\\n",
      "0  Crime is timeless. By the year 2071, humanity ...     TV     26.0   \n",
      "1  Another day, another bounty—such is the life o...  Movie      1.0   \n",
      "2  Vash the Stampede is the man with a $$60,000,0...     TV     26.0   \n",
      "3  Robin Sena is a powerful craft user drafted in...     TV     26.0   \n",
      "4  It is the dark century and the people are suff...     TV     52.0   \n",
      "\n",
      "                          Aired  ...         Studios    Source       Duration  \\\n",
      "0   Apr 3, 1998 to Apr 24, 1999  ...         Sunrise  Original  24 min per ep   \n",
      "1                   Sep 1, 2001  ...           Bones  Original    1 hr 55 min   \n",
      "2   Apr 1, 1998 to Sep 30, 1998  ...        Madhouse     Manga  24 min per ep   \n",
      "3   Jul 3, 2002 to Dec 25, 2002  ...         Sunrise  Original  25 min per ep   \n",
      "4  Sep 30, 2004 to Sep 29, 2005  ...  Toei Animation     Manga  23 min per ep   \n",
      "\n",
      "                           Rating    Rank Popularity Favorites Scored By  \\\n",
      "0  R - 17+ (violence & profanity)    41.0         43     78525  914193.0   \n",
      "1  R - 17+ (violence & profanity)   189.0        602      1448  206248.0   \n",
      "2       PG-13 - Teens 13 or older   328.0        246     15035  356739.0   \n",
      "3       PG-13 - Teens 13 or older  2764.0       1795       613   42829.0   \n",
      "4                   PG - Children  4240.0       5126        14    6413.0   \n",
      "\n",
      "   Members                                          Image URL  \n",
      "0  1771505  https://cdn.myanimelist.net/images/anime/4/196...  \n",
      "1   360978  https://cdn.myanimelist.net/images/anime/1439/...  \n",
      "2   727252  https://cdn.myanimelist.net/images/anime/7/203...  \n",
      "3   111931  https://cdn.myanimelist.net/images/anime/10/19...  \n",
      "4    15001  https://cdn.myanimelist.net/images/anime/7/215...  \n",
      "\n",
      "[5 rows x 24 columns]\n"
     ]
    }
   ],
   "source": [
    "import pandas as pd\n",
    "import s3fs\n",
    "\n",
    "# Настройка подключения к S3\n",
    "fs = s3fs.S3FileSystem(\n",
    "    client_kwargs={'endpoint_url': 'http://minio:9000'},\n",
    "    key='admin',\n",
    "    secret='1qaz2wsx'\n",
    ")\n",
    "\n",
    "# Чтение файла напрямую из S3\n",
    "with fs.open('vedro-s-datoy/anime-dataset-2023.csv', 'rb') as f:\n",
    "    anime = pd.read_csv(f)\n",
    "\n",
    "print(f\"Размер датасета: {anime.shape}\")\n",
    "print(anime.head())"
   ]
  },
  {
   "cell_type": "code",
   "execution_count": 3,
   "id": "dadc1eb1",
   "metadata": {
    "execution": {
     "iopub.execute_input": "2024-11-12T19:09:58.710161Z",
     "iopub.status.busy": "2024-11-12T19:09:58.709700Z",
     "iopub.status.idle": "2024-11-12T19:09:58.751642Z",
     "shell.execute_reply": "2024-11-12T19:09:58.750412Z"
    },
    "papermill": {
     "duration": 0.058454,
     "end_time": "2024-11-12T19:09:58.754135",
     "exception": false,
     "start_time": "2024-11-12T19:09:58.695681",
     "status": "completed"
    },
    "tags": []
   },
   "outputs": [
    {
     "data": {
      "text/html": [
       "<div>\n",
       "<style scoped>\n",
       "    .dataframe tbody tr th:only-of-type {\n",
       "        vertical-align: middle;\n",
       "    }\n",
       "\n",
       "    .dataframe tbody tr th {\n",
       "        vertical-align: top;\n",
       "    }\n",
       "\n",
       "    .dataframe thead th {\n",
       "        text-align: right;\n",
       "    }\n",
       "</style>\n",
       "<table border=\"1\" class=\"dataframe\">\n",
       "  <thead>\n",
       "    <tr style=\"text-align: right;\">\n",
       "      <th></th>\n",
       "      <th>anime_id</th>\n",
       "      <th>Name</th>\n",
       "      <th>English name</th>\n",
       "      <th>Other name</th>\n",
       "      <th>Score</th>\n",
       "      <th>Genres</th>\n",
       "      <th>Synopsis</th>\n",
       "      <th>Type</th>\n",
       "      <th>Episodes</th>\n",
       "      <th>Aired</th>\n",
       "      <th>...</th>\n",
       "      <th>Studios</th>\n",
       "      <th>Source</th>\n",
       "      <th>Duration</th>\n",
       "      <th>Rating</th>\n",
       "      <th>Rank</th>\n",
       "      <th>Popularity</th>\n",
       "      <th>Favorites</th>\n",
       "      <th>Scored By</th>\n",
       "      <th>Members</th>\n",
       "      <th>Image URL</th>\n",
       "    </tr>\n",
       "  </thead>\n",
       "  <tbody>\n",
       "    <tr>\n",
       "      <th>0</th>\n",
       "      <td>1</td>\n",
       "      <td>Cowboy Bebop</td>\n",
       "      <td>Cowboy Bebop</td>\n",
       "      <td>カウボーイビバップ</td>\n",
       "      <td>8.75</td>\n",
       "      <td>Action, Award Winning, Sci-Fi</td>\n",
       "      <td>Crime is timeless. By the year 2071, humanity ...</td>\n",
       "      <td>TV</td>\n",
       "      <td>26.0</td>\n",
       "      <td>Apr 3, 1998 to Apr 24, 1999</td>\n",
       "      <td>...</td>\n",
       "      <td>Sunrise</td>\n",
       "      <td>Original</td>\n",
       "      <td>24 min per ep</td>\n",
       "      <td>R - 17+ (violence &amp; profanity)</td>\n",
       "      <td>41.0</td>\n",
       "      <td>43</td>\n",
       "      <td>78525</td>\n",
       "      <td>914193.0</td>\n",
       "      <td>1771505</td>\n",
       "      <td>https://cdn.myanimelist.net/images/anime/4/196...</td>\n",
       "    </tr>\n",
       "    <tr>\n",
       "      <th>1</th>\n",
       "      <td>5</td>\n",
       "      <td>Cowboy Bebop: Tengoku no Tobira</td>\n",
       "      <td>Cowboy Bebop: The Movie</td>\n",
       "      <td>カウボーイビバップ 天国の扉</td>\n",
       "      <td>8.38</td>\n",
       "      <td>Action, Sci-Fi</td>\n",
       "      <td>Another day, another bounty—such is the life o...</td>\n",
       "      <td>Movie</td>\n",
       "      <td>1.0</td>\n",
       "      <td>Sep 1, 2001</td>\n",
       "      <td>...</td>\n",
       "      <td>Bones</td>\n",
       "      <td>Original</td>\n",
       "      <td>1 hr 55 min</td>\n",
       "      <td>R - 17+ (violence &amp; profanity)</td>\n",
       "      <td>189.0</td>\n",
       "      <td>602</td>\n",
       "      <td>1448</td>\n",
       "      <td>206248.0</td>\n",
       "      <td>360978</td>\n",
       "      <td>https://cdn.myanimelist.net/images/anime/1439/...</td>\n",
       "    </tr>\n",
       "    <tr>\n",
       "      <th>2</th>\n",
       "      <td>6</td>\n",
       "      <td>Trigun</td>\n",
       "      <td>Trigun</td>\n",
       "      <td>トライガン</td>\n",
       "      <td>8.22</td>\n",
       "      <td>Action, Adventure, Sci-Fi</td>\n",
       "      <td>Vash the Stampede is the man with a $$60,000,0...</td>\n",
       "      <td>TV</td>\n",
       "      <td>26.0</td>\n",
       "      <td>Apr 1, 1998 to Sep 30, 1998</td>\n",
       "      <td>...</td>\n",
       "      <td>Madhouse</td>\n",
       "      <td>Manga</td>\n",
       "      <td>24 min per ep</td>\n",
       "      <td>PG-13 - Teens 13 or older</td>\n",
       "      <td>328.0</td>\n",
       "      <td>246</td>\n",
       "      <td>15035</td>\n",
       "      <td>356739.0</td>\n",
       "      <td>727252</td>\n",
       "      <td>https://cdn.myanimelist.net/images/anime/7/203...</td>\n",
       "    </tr>\n",
       "    <tr>\n",
       "      <th>3</th>\n",
       "      <td>7</td>\n",
       "      <td>Witch Hunter Robin</td>\n",
       "      <td>Witch Hunter Robin</td>\n",
       "      <td>Witch Hunter ROBIN (ウイッチハンターロビン)</td>\n",
       "      <td>7.25</td>\n",
       "      <td>Action, Drama, Mystery, Supernatural</td>\n",
       "      <td>Robin Sena is a powerful craft user drafted in...</td>\n",
       "      <td>TV</td>\n",
       "      <td>26.0</td>\n",
       "      <td>Jul 3, 2002 to Dec 25, 2002</td>\n",
       "      <td>...</td>\n",
       "      <td>Sunrise</td>\n",
       "      <td>Original</td>\n",
       "      <td>25 min per ep</td>\n",
       "      <td>PG-13 - Teens 13 or older</td>\n",
       "      <td>2764.0</td>\n",
       "      <td>1795</td>\n",
       "      <td>613</td>\n",
       "      <td>42829.0</td>\n",
       "      <td>111931</td>\n",
       "      <td>https://cdn.myanimelist.net/images/anime/10/19...</td>\n",
       "    </tr>\n",
       "    <tr>\n",
       "      <th>4</th>\n",
       "      <td>8</td>\n",
       "      <td>Bouken Ou Beet</td>\n",
       "      <td>Beet the Vandel Buster</td>\n",
       "      <td>冒険王ビィト</td>\n",
       "      <td>6.94</td>\n",
       "      <td>Adventure, Fantasy, Supernatural</td>\n",
       "      <td>It is the dark century and the people are suff...</td>\n",
       "      <td>TV</td>\n",
       "      <td>52.0</td>\n",
       "      <td>Sep 30, 2004 to Sep 29, 2005</td>\n",
       "      <td>...</td>\n",
       "      <td>Toei Animation</td>\n",
       "      <td>Manga</td>\n",
       "      <td>23 min per ep</td>\n",
       "      <td>PG - Children</td>\n",
       "      <td>4240.0</td>\n",
       "      <td>5126</td>\n",
       "      <td>14</td>\n",
       "      <td>6413.0</td>\n",
       "      <td>15001</td>\n",
       "      <td>https://cdn.myanimelist.net/images/anime/7/215...</td>\n",
       "    </tr>\n",
       "  </tbody>\n",
       "</table>\n",
       "<p>5 rows × 24 columns</p>\n",
       "</div>"
      ],
      "text/plain": [
       "   anime_id                             Name             English name  \\\n",
       "0         1                     Cowboy Bebop             Cowboy Bebop   \n",
       "1         5  Cowboy Bebop: Tengoku no Tobira  Cowboy Bebop: The Movie   \n",
       "2         6                           Trigun                   Trigun   \n",
       "3         7               Witch Hunter Robin       Witch Hunter Robin   \n",
       "4         8                   Bouken Ou Beet   Beet the Vandel Buster   \n",
       "\n",
       "                         Other name Score  \\\n",
       "0                         カウボーイビバップ  8.75   \n",
       "1                    カウボーイビバップ 天国の扉  8.38   \n",
       "2                             トライガン  8.22   \n",
       "3  Witch Hunter ROBIN (ウイッチハンターロビン)  7.25   \n",
       "4                            冒険王ビィト  6.94   \n",
       "\n",
       "                                 Genres  \\\n",
       "0         Action, Award Winning, Sci-Fi   \n",
       "1                        Action, Sci-Fi   \n",
       "2             Action, Adventure, Sci-Fi   \n",
       "3  Action, Drama, Mystery, Supernatural   \n",
       "4      Adventure, Fantasy, Supernatural   \n",
       "\n",
       "                                            Synopsis   Type Episodes  \\\n",
       "0  Crime is timeless. By the year 2071, humanity ...     TV     26.0   \n",
       "1  Another day, another bounty—such is the life o...  Movie      1.0   \n",
       "2  Vash the Stampede is the man with a $$60,000,0...     TV     26.0   \n",
       "3  Robin Sena is a powerful craft user drafted in...     TV     26.0   \n",
       "4  It is the dark century and the people are suff...     TV     52.0   \n",
       "\n",
       "                          Aired  ...         Studios    Source       Duration  \\\n",
       "0   Apr 3, 1998 to Apr 24, 1999  ...         Sunrise  Original  24 min per ep   \n",
       "1                   Sep 1, 2001  ...           Bones  Original    1 hr 55 min   \n",
       "2   Apr 1, 1998 to Sep 30, 1998  ...        Madhouse     Manga  24 min per ep   \n",
       "3   Jul 3, 2002 to Dec 25, 2002  ...         Sunrise  Original  25 min per ep   \n",
       "4  Sep 30, 2004 to Sep 29, 2005  ...  Toei Animation     Manga  23 min per ep   \n",
       "\n",
       "                           Rating    Rank Popularity Favorites Scored By  \\\n",
       "0  R - 17+ (violence & profanity)    41.0         43     78525  914193.0   \n",
       "1  R - 17+ (violence & profanity)   189.0        602      1448  206248.0   \n",
       "2       PG-13 - Teens 13 or older   328.0        246     15035  356739.0   \n",
       "3       PG-13 - Teens 13 or older  2764.0       1795       613   42829.0   \n",
       "4                   PG - Children  4240.0       5126        14    6413.0   \n",
       "\n",
       "   Members                                          Image URL  \n",
       "0  1771505  https://cdn.myanimelist.net/images/anime/4/196...  \n",
       "1   360978  https://cdn.myanimelist.net/images/anime/1439/...  \n",
       "2   727252  https://cdn.myanimelist.net/images/anime/7/203...  \n",
       "3   111931  https://cdn.myanimelist.net/images/anime/10/19...  \n",
       "4    15001  https://cdn.myanimelist.net/images/anime/7/215...  \n",
       "\n",
       "[5 rows x 24 columns]"
      ]
     },
     "execution_count": 3,
     "metadata": {},
     "output_type": "execute_result"
    }
   ],
   "source": [
    "anime.head()"
   ]
  },
  {
   "cell_type": "code",
   "execution_count": 3,
   "id": "dd3f6dee",
   "metadata": {
    "papermill": {
     "duration": 0.024738,
     "end_time": "2024-11-12T19:09:58.792042",
     "exception": false,
     "start_time": "2024-11-12T19:09:58.767304",
     "status": "completed"
    },
    "tags": []
   },
   "outputs": [
    {
     "data": {
      "text/plain": [
       "(24905, 24)"
      ]
     },
     "execution_count": 3,
     "metadata": {},
     "output_type": "execute_result"
    }
   ],
   "source": [
    "anime.shape"
   ]
  },
  {
   "cell_type": "code",
   "execution_count": 4,
   "id": "2b60a70b",
   "metadata": {
    "papermill": {
     "duration": 0.026206,
     "end_time": "2024-11-12T19:09:58.831868",
     "exception": false,
     "start_time": "2024-11-12T19:09:58.805662",
     "status": "completed"
    },
    "tags": []
   },
   "outputs": [],
   "source": [
    "anime = anime[['anime_id','Name','Synopsis','Genres','Type','Studios','Rating']]"
   ]
  },
  {
   "cell_type": "code",
   "execution_count": 5,
   "id": "7fac4fea",
   "metadata": {
    "papermill": {
     "duration": 0.043097,
     "end_time": "2024-11-12T19:09:58.888156",
     "exception": false,
     "start_time": "2024-11-12T19:09:58.845059",
     "status": "completed"
    },
    "tags": []
   },
   "outputs": [],
   "source": [
    "anime.dropna(inplace=True)"
   ]
  },
  {
   "cell_type": "code",
   "execution_count": 6,
   "id": "caea69eb",
   "metadata": {
    "papermill": {
     "duration": 0.037995,
     "end_time": "2024-11-12T19:09:58.939322",
     "exception": false,
     "start_time": "2024-11-12T19:09:58.901327",
     "status": "completed"
    },
    "tags": []
   },
   "outputs": [
    {
     "data": {
      "text/html": [
       "<div>\n",
       "<style scoped>\n",
       "    .dataframe tbody tr th:only-of-type {\n",
       "        vertical-align: middle;\n",
       "    }\n",
       "\n",
       "    .dataframe tbody tr th {\n",
       "        vertical-align: top;\n",
       "    }\n",
       "\n",
       "    .dataframe thead th {\n",
       "        text-align: right;\n",
       "    }\n",
       "</style>\n",
       "<table border=\"1\" class=\"dataframe\">\n",
       "  <thead>\n",
       "    <tr style=\"text-align: right;\">\n",
       "      <th></th>\n",
       "      <th>anime_id</th>\n",
       "      <th>Name</th>\n",
       "      <th>Synopsis</th>\n",
       "      <th>Genres</th>\n",
       "      <th>Type</th>\n",
       "      <th>Studios</th>\n",
       "      <th>Rating</th>\n",
       "    </tr>\n",
       "  </thead>\n",
       "  <tbody>\n",
       "    <tr>\n",
       "      <th>4054</th>\n",
       "      <td>5279</td>\n",
       "      <td>Sekirei: Hajimete no Otsukai</td>\n",
       "      <td>\"Kusano's first errand\" - A ten minute OVA tha...</td>\n",
       "      <td>Comedy</td>\n",
       "      <td>Special</td>\n",
       "      <td>Seven Arcs</td>\n",
       "      <td>R+ - Mild Nudity</td>\n",
       "    </tr>\n",
       "    <tr>\n",
       "      <th>13609</th>\n",
       "      <td>36545</td>\n",
       "      <td>Huyao Xiao Hongniang: Qian Yan</td>\n",
       "      <td>The 5th season of Huyao Xiao Hongniang.</td>\n",
       "      <td>Comedy, Romance, Supernatural</td>\n",
       "      <td>ONA</td>\n",
       "      <td>Haoliners Animation League</td>\n",
       "      <td>PG-13 - Teens 13 or older</td>\n",
       "    </tr>\n",
       "    <tr>\n",
       "      <th>4176</th>\n",
       "      <td>5550</td>\n",
       "      <td>Fujun Isei Kouyuu: Taisetsu na Kimi e</td>\n",
       "      <td>No description available for this anime.</td>\n",
       "      <td>Hentai</td>\n",
       "      <td>OVA</td>\n",
       "      <td>Studio OX</td>\n",
       "      <td>Rx - Hentai</td>\n",
       "    </tr>\n",
       "    <tr>\n",
       "      <th>5806</th>\n",
       "      <td>9546</td>\n",
       "      <td>Shirahata no Shoujo Ryuuko</td>\n",
       "      <td>In 1945, American troops land on the island of...</td>\n",
       "      <td>Drama</td>\n",
       "      <td>Movie</td>\n",
       "      <td>UNKNOWN</td>\n",
       "      <td>UNKNOWN</td>\n",
       "    </tr>\n",
       "    <tr>\n",
       "      <th>10360</th>\n",
       "      <td>30167</td>\n",
       "      <td>Kanashiki Mongoose</td>\n",
       "      <td>A music video for the song by Seiji Tanaka tha...</td>\n",
       "      <td>UNKNOWN</td>\n",
       "      <td>Music</td>\n",
       "      <td>UNKNOWN</td>\n",
       "      <td>G - All Ages</td>\n",
       "    </tr>\n",
       "    <tr>\n",
       "      <th>23434</th>\n",
       "      <td>53499</td>\n",
       "      <td>Aikatsu! 10th Story: Mirai e no Starway (2023)</td>\n",
       "      <td>No description available for this anime.</td>\n",
       "      <td>UNKNOWN</td>\n",
       "      <td>Movie</td>\n",
       "      <td>Bandai Namco Pictures</td>\n",
       "      <td>PG - Children</td>\n",
       "    </tr>\n",
       "    <tr>\n",
       "      <th>18861</th>\n",
       "      <td>45496</td>\n",
       "      <td>Baobao Bashi: Qimiao Shuxue Da Maoxian</td>\n",
       "      <td>No description available for this anime.</td>\n",
       "      <td>Fantasy</td>\n",
       "      <td>ONA</td>\n",
       "      <td>UNKNOWN</td>\n",
       "      <td>PG - Children</td>\n",
       "    </tr>\n",
       "  </tbody>\n",
       "</table>\n",
       "</div>"
      ],
      "text/plain": [
       "       anime_id                                            Name  \\\n",
       "4054       5279                    Sekirei: Hajimete no Otsukai   \n",
       "13609     36545                  Huyao Xiao Hongniang: Qian Yan   \n",
       "4176       5550           Fujun Isei Kouyuu: Taisetsu na Kimi e   \n",
       "5806       9546                      Shirahata no Shoujo Ryuuko   \n",
       "10360     30167                              Kanashiki Mongoose   \n",
       "23434     53499  Aikatsu! 10th Story: Mirai e no Starway (2023)   \n",
       "18861     45496          Baobao Bashi: Qimiao Shuxue Da Maoxian   \n",
       "\n",
       "                                                Synopsis  \\\n",
       "4054   \"Kusano's first errand\" - A ten minute OVA tha...   \n",
       "13609            The 5th season of Huyao Xiao Hongniang.   \n",
       "4176            No description available for this anime.   \n",
       "5806   In 1945, American troops land on the island of...   \n",
       "10360  A music video for the song by Seiji Tanaka tha...   \n",
       "23434           No description available for this anime.   \n",
       "18861           No description available for this anime.   \n",
       "\n",
       "                              Genres     Type                     Studios  \\\n",
       "4054                          Comedy  Special                  Seven Arcs   \n",
       "13609  Comedy, Romance, Supernatural      ONA  Haoliners Animation League   \n",
       "4176                          Hentai      OVA                   Studio OX   \n",
       "5806                           Drama    Movie                     UNKNOWN   \n",
       "10360                        UNKNOWN    Music                     UNKNOWN   \n",
       "23434                        UNKNOWN    Movie       Bandai Namco Pictures   \n",
       "18861                        Fantasy      ONA                     UNKNOWN   \n",
       "\n",
       "                          Rating  \n",
       "4054            R+ - Mild Nudity  \n",
       "13609  PG-13 - Teens 13 or older  \n",
       "4176                 Rx - Hentai  \n",
       "5806                     UNKNOWN  \n",
       "10360               G - All Ages  \n",
       "23434              PG - Children  \n",
       "18861              PG - Children  "
      ]
     },
     "execution_count": 6,
     "metadata": {},
     "output_type": "execute_result"
    }
   ],
   "source": [
    "#movies['overview'] = movies['overview'].apply(lambda x:x.s\n",
    "anime.sample(7)"
   ]
  },
  {
   "cell_type": "code",
   "execution_count": 9,
   "id": "8b2cfbb4",
   "metadata": {
    "papermill": {
     "duration": 0.023465,
     "end_time": "2024-11-12T19:09:58.976442",
     "exception": false,
     "start_time": "2024-11-12T19:09:58.952977",
     "status": "completed"
    },
    "tags": []
   },
   "outputs": [],
   "source": [
    "def string_to_list(text):\n",
    "    return [item.strip() for item in text.split(',')]"
   ]
  },
  {
   "cell_type": "code",
   "execution_count": 10,
   "id": "02b27eba",
   "metadata": {
    "papermill": {
     "duration": 0.230423,
     "end_time": "2024-11-12T19:09:59.220459",
     "exception": false,
     "start_time": "2024-11-12T19:09:58.990036",
     "status": "completed"
    },
    "tags": []
   },
   "outputs": [],
   "source": [
    "anime['Genres']=anime['Genres'].apply(string_to_list)\n",
    "anime['Type']=anime['Type'].apply(string_to_list)\n",
    "anime['Studios']=anime['Studios'].apply(string_to_list)\n",
    "anime['Rating']=anime['Rating'].apply(string_to_list)"
   ]
  },
  {
   "cell_type": "code",
   "execution_count": 12,
   "id": "b25967bf",
   "metadata": {
    "papermill": {
     "duration": 0.040193,
     "end_time": "2024-11-12T19:09:59.274276",
     "exception": false,
     "start_time": "2024-11-12T19:09:59.234083",
     "status": "completed"
    },
    "tags": []
   },
   "outputs": [
    {
     "data": {
      "text/html": [
       "<div>\n",
       "<style scoped>\n",
       "    .dataframe tbody tr th:only-of-type {\n",
       "        vertical-align: middle;\n",
       "    }\n",
       "\n",
       "    .dataframe tbody tr th {\n",
       "        vertical-align: top;\n",
       "    }\n",
       "\n",
       "    .dataframe thead th {\n",
       "        text-align: right;\n",
       "    }\n",
       "</style>\n",
       "<table border=\"1\" class=\"dataframe\">\n",
       "  <thead>\n",
       "    <tr style=\"text-align: right;\">\n",
       "      <th></th>\n",
       "      <th>anime_id</th>\n",
       "      <th>Name</th>\n",
       "      <th>Synopsis</th>\n",
       "      <th>Genres</th>\n",
       "      <th>Type</th>\n",
       "      <th>Studios</th>\n",
       "      <th>Rating</th>\n",
       "    </tr>\n",
       "  </thead>\n",
       "  <tbody>\n",
       "    <tr>\n",
       "      <th>0</th>\n",
       "      <td>1</td>\n",
       "      <td>Cowboy Bebop</td>\n",
       "      <td>Crime is timeless. By the year 2071, humanity ...</td>\n",
       "      <td>[Action, Award Winning, Sci-Fi]</td>\n",
       "      <td>[TV]</td>\n",
       "      <td>[Sunrise]</td>\n",
       "      <td>[R - 17+ (violence &amp; profanity)]</td>\n",
       "    </tr>\n",
       "    <tr>\n",
       "      <th>1</th>\n",
       "      <td>5</td>\n",
       "      <td>Cowboy Bebop: Tengoku no Tobira</td>\n",
       "      <td>Another day, another bounty—such is the life o...</td>\n",
       "      <td>[Action, Sci-Fi]</td>\n",
       "      <td>[Movie]</td>\n",
       "      <td>[Bones]</td>\n",
       "      <td>[R - 17+ (violence &amp; profanity)]</td>\n",
       "    </tr>\n",
       "    <tr>\n",
       "      <th>2</th>\n",
       "      <td>6</td>\n",
       "      <td>Trigun</td>\n",
       "      <td>Vash the Stampede is the man with a $$60,000,0...</td>\n",
       "      <td>[Action, Adventure, Sci-Fi]</td>\n",
       "      <td>[TV]</td>\n",
       "      <td>[Madhouse]</td>\n",
       "      <td>[PG-13 - Teens 13 or older]</td>\n",
       "    </tr>\n",
       "    <tr>\n",
       "      <th>3</th>\n",
       "      <td>7</td>\n",
       "      <td>Witch Hunter Robin</td>\n",
       "      <td>Robin Sena is a powerful craft user drafted in...</td>\n",
       "      <td>[Action, Drama, Mystery, Supernatural]</td>\n",
       "      <td>[TV]</td>\n",
       "      <td>[Sunrise]</td>\n",
       "      <td>[PG-13 - Teens 13 or older]</td>\n",
       "    </tr>\n",
       "    <tr>\n",
       "      <th>4</th>\n",
       "      <td>8</td>\n",
       "      <td>Bouken Ou Beet</td>\n",
       "      <td>It is the dark century and the people are suff...</td>\n",
       "      <td>[Adventure, Fantasy, Supernatural]</td>\n",
       "      <td>[TV]</td>\n",
       "      <td>[Toei Animation]</td>\n",
       "      <td>[PG - Children]</td>\n",
       "    </tr>\n",
       "  </tbody>\n",
       "</table>\n",
       "</div>"
      ],
      "text/plain": [
       "   anime_id                             Name  \\\n",
       "0         1                     Cowboy Bebop   \n",
       "1         5  Cowboy Bebop: Tengoku no Tobira   \n",
       "2         6                           Trigun   \n",
       "3         7               Witch Hunter Robin   \n",
       "4         8                   Bouken Ou Beet   \n",
       "\n",
       "                                            Synopsis  \\\n",
       "0  Crime is timeless. By the year 2071, humanity ...   \n",
       "1  Another day, another bounty—such is the life o...   \n",
       "2  Vash the Stampede is the man with a $$60,000,0...   \n",
       "3  Robin Sena is a powerful craft user drafted in...   \n",
       "4  It is the dark century and the people are suff...   \n",
       "\n",
       "                                   Genres     Type           Studios  \\\n",
       "0         [Action, Award Winning, Sci-Fi]     [TV]         [Sunrise]   \n",
       "1                        [Action, Sci-Fi]  [Movie]           [Bones]   \n",
       "2             [Action, Adventure, Sci-Fi]     [TV]        [Madhouse]   \n",
       "3  [Action, Drama, Mystery, Supernatural]     [TV]         [Sunrise]   \n",
       "4      [Adventure, Fantasy, Supernatural]     [TV]  [Toei Animation]   \n",
       "\n",
       "                             Rating  \n",
       "0  [R - 17+ (violence & profanity)]  \n",
       "1  [R - 17+ (violence & profanity)]  \n",
       "2       [PG-13 - Teens 13 or older]  \n",
       "3       [PG-13 - Teens 13 or older]  \n",
       "4                   [PG - Children]  "
      ]
     },
     "execution_count": 12,
     "metadata": {},
     "output_type": "execute_result"
    }
   ],
   "source": [
    "anime.head()"
   ]
  },
  {
   "cell_type": "code",
   "execution_count": 11,
   "id": "47d0599f",
   "metadata": {
    "execution": {
     "iopub.execute_input": "2024-11-12T19:09:59.303663Z",
     "iopub.status.busy": "2024-11-12T19:09:59.303218Z",
     "iopub.status.idle": "2024-11-12T19:09:59.309161Z",
     "shell.execute_reply": "2024-11-12T19:09:59.307930Z"
    },
    "papermill": {
     "duration": 0.023615,
     "end_time": "2024-11-12T19:09:59.311660",
     "exception": false,
     "start_time": "2024-11-12T19:09:59.288045",
     "status": "completed"
    },
    "tags": []
   },
   "outputs": [],
   "source": [
    "def collapse(L):\n",
    "    L1 = []\n",
    "    for i in L:\n",
    "        L1.append(i.replace(\" \",\"\"))\n",
    "    return L1"
   ]
  },
  {
   "cell_type": "code",
   "execution_count": 12,
   "id": "badee07a",
   "metadata": {
    "execution": {
     "iopub.execute_input": "2024-11-12T19:09:59.341178Z",
     "iopub.status.busy": "2024-11-12T19:09:59.340748Z",
     "iopub.status.idle": "2024-11-12T19:09:59.508622Z",
     "shell.execute_reply": "2024-11-12T19:09:59.507566Z"
    },
    "papermill": {
     "duration": 0.185831,
     "end_time": "2024-11-12T19:09:59.511395",
     "exception": false,
     "start_time": "2024-11-12T19:09:59.325564",
     "status": "completed"
    },
    "tags": []
   },
   "outputs": [],
   "source": [
    "anime['Genres']=anime['Genres'].apply(collapse)\n",
    "anime['Studios']=anime['Studios'].apply(collapse)\n",
    "anime['Rating']=anime['Rating'].apply(collapse)"
   ]
  },
  {
   "cell_type": "code",
   "execution_count": 13,
   "id": "31389619",
   "metadata": {
    "execution": {
     "iopub.execute_input": "2024-11-12T19:09:59.541173Z",
     "iopub.status.busy": "2024-11-12T19:09:59.540772Z",
     "iopub.status.idle": "2024-11-12T19:09:59.766461Z",
     "shell.execute_reply": "2024-11-12T19:09:59.765472Z"
    },
    "papermill": {
     "duration": 0.244006,
     "end_time": "2024-11-12T19:09:59.769555",
     "exception": false,
     "start_time": "2024-11-12T19:09:59.525549",
     "status": "completed"
    },
    "tags": []
   },
   "outputs": [],
   "source": [
    "anime['Synopsis'] = anime['Synopsis'].apply(lambda x:x.split())"
   ]
  },
  {
   "cell_type": "code",
   "execution_count": 14,
   "id": "2b0ef633",
   "metadata": {
    "execution": {
     "iopub.execute_input": "2024-11-12T19:09:59.799611Z",
     "iopub.status.busy": "2024-11-12T19:09:59.798566Z",
     "iopub.status.idle": "2024-11-12T19:10:00.246344Z",
     "shell.execute_reply": "2024-11-12T19:10:00.245172Z"
    },
    "papermill": {
     "duration": 0.465574,
     "end_time": "2024-11-12T19:10:00.249030",
     "exception": false,
     "start_time": "2024-11-12T19:09:59.783456",
     "status": "completed"
    },
    "tags": []
   },
   "outputs": [],
   "source": [
    "anime['tags'] = anime['Synopsis'] + anime['Genres'] + anime['Type'] + anime['Studios'] + anime['Rating']"
   ]
  },
  {
   "cell_type": "code",
   "execution_count": 15,
   "id": "a49455b8",
   "metadata": {
    "execution": {
     "iopub.execute_input": "2024-11-12T19:10:00.278555Z",
     "iopub.status.busy": "2024-11-12T19:10:00.278103Z",
     "iopub.status.idle": "2024-11-12T19:10:00.299894Z",
     "shell.execute_reply": "2024-11-12T19:10:00.298543Z"
    },
    "papermill": {
     "duration": 0.039462,
     "end_time": "2024-11-12T19:10:00.302338",
     "exception": false,
     "start_time": "2024-11-12T19:10:00.262876",
     "status": "completed"
    },
    "tags": []
   },
   "outputs": [
    {
     "data": {
      "text/html": [
       "<div>\n",
       "<style scoped>\n",
       "    .dataframe tbody tr th:only-of-type {\n",
       "        vertical-align: middle;\n",
       "    }\n",
       "\n",
       "    .dataframe tbody tr th {\n",
       "        vertical-align: top;\n",
       "    }\n",
       "\n",
       "    .dataframe thead th {\n",
       "        text-align: right;\n",
       "    }\n",
       "</style>\n",
       "<table border=\"1\" class=\"dataframe\">\n",
       "  <thead>\n",
       "    <tr style=\"text-align: right;\">\n",
       "      <th></th>\n",
       "      <th>anime_id</th>\n",
       "      <th>Name</th>\n",
       "      <th>tags</th>\n",
       "    </tr>\n",
       "  </thead>\n",
       "  <tbody>\n",
       "    <tr>\n",
       "      <th>0</th>\n",
       "      <td>1</td>\n",
       "      <td>Cowboy Bebop</td>\n",
       "      <td>[Crime, is, timeless., By, the, year, 2071,, h...</td>\n",
       "    </tr>\n",
       "    <tr>\n",
       "      <th>1</th>\n",
       "      <td>5</td>\n",
       "      <td>Cowboy Bebop: Tengoku no Tobira</td>\n",
       "      <td>[Another, day,, another, bounty—such, is, the,...</td>\n",
       "    </tr>\n",
       "    <tr>\n",
       "      <th>2</th>\n",
       "      <td>6</td>\n",
       "      <td>Trigun</td>\n",
       "      <td>[Vash, the, Stampede, is, the, man, with, a, $...</td>\n",
       "    </tr>\n",
       "    <tr>\n",
       "      <th>3</th>\n",
       "      <td>7</td>\n",
       "      <td>Witch Hunter Robin</td>\n",
       "      <td>[Robin, Sena, is, a, powerful, craft, user, dr...</td>\n",
       "    </tr>\n",
       "    <tr>\n",
       "      <th>4</th>\n",
       "      <td>8</td>\n",
       "      <td>Bouken Ou Beet</td>\n",
       "      <td>[It, is, the, dark, century, and, the, people,...</td>\n",
       "    </tr>\n",
       "  </tbody>\n",
       "</table>\n",
       "</div>"
      ],
      "text/plain": [
       "   anime_id                             Name  \\\n",
       "0         1                     Cowboy Bebop   \n",
       "1         5  Cowboy Bebop: Tengoku no Tobira   \n",
       "2         6                           Trigun   \n",
       "3         7               Witch Hunter Robin   \n",
       "4         8                   Bouken Ou Beet   \n",
       "\n",
       "                                                tags  \n",
       "0  [Crime, is, timeless., By, the, year, 2071,, h...  \n",
       "1  [Another, day,, another, bounty—such, is, the,...  \n",
       "2  [Vash, the, Stampede, is, the, man, with, a, $...  \n",
       "3  [Robin, Sena, is, a, powerful, craft, user, dr...  \n",
       "4  [It, is, the, dark, century, and, the, people,...  "
      ]
     },
     "execution_count": 15,
     "metadata": {},
     "output_type": "execute_result"
    }
   ],
   "source": [
    "new = anime.drop(columns=['Synopsis','Genres','Type','Studios','Rating'])\n",
    "new.head()"
   ]
  },
  {
   "cell_type": "code",
   "execution_count": 16,
   "id": "b1d468a6",
   "metadata": {
    "execution": {
     "iopub.execute_input": "2024-11-12T19:10:00.332463Z",
     "iopub.status.busy": "2024-11-12T19:10:00.332024Z",
     "iopub.status.idle": "2024-11-12T19:10:00.421127Z",
     "shell.execute_reply": "2024-11-12T19:10:00.419729Z"
    },
    "papermill": {
     "duration": 0.107358,
     "end_time": "2024-11-12T19:10:00.423725",
     "exception": false,
     "start_time": "2024-11-12T19:10:00.316367",
     "status": "completed"
    },
    "tags": []
   },
   "outputs": [
    {
     "data": {
      "text/html": [
       "<div>\n",
       "<style scoped>\n",
       "    .dataframe tbody tr th:only-of-type {\n",
       "        vertical-align: middle;\n",
       "    }\n",
       "\n",
       "    .dataframe tbody tr th {\n",
       "        vertical-align: top;\n",
       "    }\n",
       "\n",
       "    .dataframe thead th {\n",
       "        text-align: right;\n",
       "    }\n",
       "</style>\n",
       "<table border=\"1\" class=\"dataframe\">\n",
       "  <thead>\n",
       "    <tr style=\"text-align: right;\">\n",
       "      <th></th>\n",
       "      <th>anime_id</th>\n",
       "      <th>Name</th>\n",
       "      <th>tags</th>\n",
       "    </tr>\n",
       "  </thead>\n",
       "  <tbody>\n",
       "    <tr>\n",
       "      <th>0</th>\n",
       "      <td>1</td>\n",
       "      <td>Cowboy Bebop</td>\n",
       "      <td>Crime is timeless. By the year 2071, humanity ...</td>\n",
       "    </tr>\n",
       "  </tbody>\n",
       "</table>\n",
       "</div>"
      ],
      "text/plain": [
       "   anime_id          Name                                               tags\n",
       "0         1  Cowboy Bebop  Crime is timeless. By the year 2071, humanity ..."
      ]
     },
     "execution_count": 16,
     "metadata": {},
     "output_type": "execute_result"
    }
   ],
   "source": [
    "new['tags'] = new['tags'].apply(lambda x: \" \".join(x))\n",
    "new.head(1)"
   ]
  },
  {
   "cell_type": "code",
   "execution_count": 17,
   "id": "7717d507",
   "metadata": {
    "execution": {
     "iopub.execute_input": "2024-11-12T19:10:00.454305Z",
     "iopub.status.busy": "2024-11-12T19:10:00.453856Z",
     "iopub.status.idle": "2024-11-12T19:10:01.990109Z",
     "shell.execute_reply": "2024-11-12T19:10:01.988923Z"
    },
    "papermill": {
     "duration": 1.554947,
     "end_time": "2024-11-12T19:10:01.993018",
     "exception": false,
     "start_time": "2024-11-12T19:10:00.438071",
     "status": "completed"
    },
    "tags": []
   },
   "outputs": [],
   "source": [
    "from sklearn.feature_extraction.text import CountVectorizer\n",
    "cv = CountVectorizer(max_features=5000,stop_words='english')\n",
    "    "
   ]
  },
  {
   "cell_type": "code",
   "execution_count": 18,
   "id": "4b3cf607",
   "metadata": {
    "execution": {
     "iopub.execute_input": "2024-11-12T19:10:02.024846Z",
     "iopub.status.busy": "2024-11-12T19:10:02.024220Z",
     "iopub.status.idle": "2024-11-12T19:10:04.767955Z",
     "shell.execute_reply": "2024-11-12T19:10:04.766977Z"
    },
    "papermill": {
     "duration": 2.762586,
     "end_time": "2024-11-12T19:10:04.770751",
     "exception": false,
     "start_time": "2024-11-12T19:10:02.008165",
     "status": "completed"
    },
    "tags": []
   },
   "outputs": [],
   "source": [
    "vector = cv.fit_transform(new['tags']).toarray()"
   ]
  },
  {
   "cell_type": "code",
   "execution_count": 19,
   "id": "07e4dbd0",
   "metadata": {
    "execution": {
     "iopub.execute_input": "2024-11-12T19:10:04.800838Z",
     "iopub.status.busy": "2024-11-12T19:10:04.800381Z",
     "iopub.status.idle": "2024-11-12T19:10:04.807505Z",
     "shell.execute_reply": "2024-11-12T19:10:04.806435Z"
    },
    "papermill": {
     "duration": 0.025059,
     "end_time": "2024-11-12T19:10:04.809984",
     "exception": false,
     "start_time": "2024-11-12T19:10:04.784925",
     "status": "completed"
    },
    "tags": []
   },
   "outputs": [
    {
     "data": {
      "text/plain": [
       "(24905, 5000)"
      ]
     },
     "execution_count": 19,
     "metadata": {},
     "output_type": "execute_result"
    }
   ],
   "source": [
    "vector.shape"
   ]
  },
  {
   "cell_type": "code",
   "execution_count": 20,
   "id": "ba9e2a83",
   "metadata": {
    "execution": {
     "iopub.execute_input": "2024-11-12T19:10:04.840778Z",
     "iopub.status.busy": "2024-11-12T19:10:04.840360Z",
     "iopub.status.idle": "2024-11-12T19:10:04.944738Z",
     "shell.execute_reply": "2024-11-12T19:10:04.943680Z"
    },
    "papermill": {
     "duration": 0.123022,
     "end_time": "2024-11-12T19:10:04.947486",
     "exception": false,
     "start_time": "2024-11-12T19:10:04.824464",
     "status": "completed"
    },
    "tags": []
   },
   "outputs": [],
   "source": [
    "from sklearn.metrics.pairwise import cosine_similarity"
   ]
  },
  {
   "cell_type": "code",
   "execution_count": 21,
   "id": "b7f101a0",
   "metadata": {
    "execution": {
     "iopub.execute_input": "2024-11-12T19:10:04.978814Z",
     "iopub.status.busy": "2024-11-12T19:10:04.978383Z",
     "iopub.status.idle": "2024-11-12T19:10:57.953289Z",
     "shell.execute_reply": "2024-11-12T19:10:57.951906Z"
    },
    "papermill": {
     "duration": 52.993854,
     "end_time": "2024-11-12T19:10:57.956210",
     "exception": false,
     "start_time": "2024-11-12T19:10:04.962356",
     "status": "completed"
    },
    "tags": []
   },
   "outputs": [],
   "source": [
    "similarity = cosine_similarity(vector)"
   ]
  },
  {
   "cell_type": "code",
   "execution_count": 22,
   "id": "f378a121",
   "metadata": {
    "execution": {
     "iopub.execute_input": "2024-11-12T19:10:57.987220Z",
     "iopub.status.busy": "2024-11-12T19:10:57.986775Z",
     "iopub.status.idle": "2024-11-12T19:10:57.995212Z",
     "shell.execute_reply": "2024-11-12T19:10:57.994049Z"
    },
    "papermill": {
     "duration": 0.026737,
     "end_time": "2024-11-12T19:10:57.997542",
     "exception": false,
     "start_time": "2024-11-12T19:10:57.970805",
     "status": "completed"
    },
    "tags": []
   },
   "outputs": [
    {
     "data": {
      "text/plain": [
       "array([[1.        , 0.25139666, 0.1367753 , ..., 0.09078413, 0.        ,\n",
       "        0.        ],\n",
       "       [0.25139666, 1.        , 0.15201725, ..., 0.13453456, 0.        ,\n",
       "        0.        ],\n",
       "       [0.1367753 , 0.15201725, 1.        , ..., 0.22124884, 0.09482093,\n",
       "        0.09482093],\n",
       "       ...,\n",
       "       [0.09078413, 0.13453456, 0.22124884, ..., 1.        , 0.38461538,\n",
       "        0.38461538],\n",
       "       [0.        , 0.        , 0.09482093, ..., 0.38461538, 1.        ,\n",
       "        1.        ],\n",
       "       [0.        , 0.        , 0.09482093, ..., 0.38461538, 1.        ,\n",
       "        1.        ]])"
      ]
     },
     "execution_count": 22,
     "metadata": {},
     "output_type": "execute_result"
    }
   ],
   "source": [
    "similarity"
   ]
  },
  {
   "cell_type": "code",
   "execution_count": 23,
   "id": "3839af0e",
   "metadata": {
    "execution": {
     "iopub.execute_input": "2024-11-12T19:10:58.029482Z",
     "iopub.status.busy": "2024-11-12T19:10:58.029041Z",
     "iopub.status.idle": "2024-11-12T19:10:58.043728Z",
     "shell.execute_reply": "2024-11-12T19:10:58.042405Z"
    },
    "papermill": {
     "duration": 0.033481,
     "end_time": "2024-11-12T19:10:58.046296",
     "exception": false,
     "start_time": "2024-11-12T19:10:58.012815",
     "status": "completed"
    },
    "tags": []
   },
   "outputs": [
    {
     "data": {
      "text/plain": [
       "16234"
      ]
     },
     "execution_count": 23,
     "metadata": {},
     "output_type": "execute_result"
    }
   ],
   "source": [
    "new[new['Name'] == 'Overflow'].index[0]"
   ]
  },
  {
   "cell_type": "code",
   "execution_count": 24,
   "id": "51541beb",
   "metadata": {
    "execution": {
     "iopub.execute_input": "2024-11-12T19:10:58.078484Z",
     "iopub.status.busy": "2024-11-12T19:10:58.078017Z",
     "iopub.status.idle": "2024-11-12T19:10:58.085373Z",
     "shell.execute_reply": "2024-11-12T19:10:58.084070Z"
    },
    "papermill": {
     "duration": 0.026816,
     "end_time": "2024-11-12T19:10:58.088001",
     "exception": false,
     "start_time": "2024-11-12T19:10:58.061185",
     "status": "completed"
    },
    "tags": []
   },
   "outputs": [],
   "source": [
    "def recommend(anime):\n",
    "    index = new[new['Name'] == anime].index[0]\n",
    "    distances = sorted(list(enumerate(similarity[index])),reverse=True,key = lambda x: x[1])\n",
    "    for i in distances[1:6]:\n",
    "        print(new.iloc[i[0]].Name)\n",
    "        \n",
    "    "
   ]
  },
  {
   "cell_type": "code",
   "execution_count": 25,
   "id": "c001b723",
   "metadata": {
    "execution": {
     "iopub.execute_input": "2024-11-12T19:10:58.120196Z",
     "iopub.status.busy": "2024-11-12T19:10:58.119141Z",
     "iopub.status.idle": "2024-11-12T19:10:58.162449Z",
     "shell.execute_reply": "2024-11-12T19:10:58.160861Z"
    },
    "papermill": {
     "duration": 0.062601,
     "end_time": "2024-11-12T19:10:58.165497",
     "exception": false,
     "start_time": "2024-11-12T19:10:58.102896",
     "status": "completed"
    },
    "tags": []
   },
   "outputs": [
    {
     "name": "stdout",
     "output_type": "stream",
     "text": [
      "One Piece: Episode of East Blue - Luffy to 4-nin no Nakama no Daibouken\n",
      "One Piece: Romance Dawn Story\n",
      "One Piece Film: Strong World\n",
      "One Piece Movie 14: Stampede\n",
      "One Piece: Oounabara ni Hirake! Dekkai Dekkai Chichi no Yume!\n"
     ]
    }
   ],
   "source": [
    "recommend('One Piece')"
   ]
  },
  {
   "cell_type": "code",
   "execution_count": 26,
   "id": "3081ab70",
   "metadata": {
    "execution": {
     "iopub.execute_input": "2024-11-12T19:10:58.197313Z",
     "iopub.status.busy": "2024-11-12T19:10:58.196844Z",
     "iopub.status.idle": "2024-11-12T19:10:58.202274Z",
     "shell.execute_reply": "2024-11-12T19:10:58.201082Z"
    },
    "papermill": {
     "duration": 0.024312,
     "end_time": "2024-11-12T19:10:58.204743",
     "exception": false,
     "start_time": "2024-11-12T19:10:58.180431",
     "status": "completed"
    },
    "tags": []
   },
   "outputs": [],
   "source": [
    "import pickle"
   ]
  },
  {
   "cell_type": "code",
   "execution_count": 27,
   "id": "e30069a8",
   "metadata": {
    "execution": {
     "iopub.execute_input": "2024-11-12T19:10:58.237160Z",
     "iopub.status.busy": "2024-11-12T19:10:58.236696Z",
     "iopub.status.idle": "2024-11-12T19:11:12.142168Z",
     "shell.execute_reply": "2024-11-12T19:11:12.140934Z"
    },
    "papermill": {
     "duration": 13.926044,
     "end_time": "2024-11-12T19:11:12.146092",
     "exception": false,
     "start_time": "2024-11-12T19:10:58.220048",
     "status": "completed"
    },
    "tags": []
   },
   "outputs": [],
   "source": [
    "pickle.dump(new,open('anime_list.pkl','wb'))\n",
    "pickle.dump(similarity,open('similarity.pkl','wb'))"
   ]
  },
  {
   "cell_type": "code",
   "execution_count": 28,
   "id": "d5a75b21",
   "metadata": {
    "execution": {
     "iopub.execute_input": "2024-11-12T19:11:17.298605Z",
     "iopub.status.busy": "2024-11-12T19:11:17.296960Z",
     "iopub.status.idle": "2024-11-12T19:11:17.306009Z",
     "shell.execute_reply": "2024-11-12T19:11:17.304525Z"
    },
    "papermill": {
     "duration": 0.188645,
     "end_time": "2024-11-12T19:11:17.309670",
     "exception": false,
     "start_time": "2024-11-12T19:11:17.121025",
     "status": "completed"
    },
    "tags": []
   },
   "outputs": [],
   "source": [
    "##COLLABORATIVE FILTERING"
   ]
  },
  {
   "cell_type": "code",
   "execution_count": 29,
   "id": "1eabd1af",
   "metadata": {
    "execution": {
     "iopub.execute_input": "2024-11-12T19:11:17.640813Z",
     "iopub.status.busy": "2024-11-12T19:11:17.639737Z",
     "iopub.status.idle": "2024-11-12T19:12:02.443276Z",
     "shell.execute_reply": "2024-11-12T19:12:02.440769Z"
    },
    "papermill": {
     "duration": 44.975667,
     "end_time": "2024-11-12T19:12:02.448618",
     "exception": false,
     "start_time": "2024-11-12T19:11:17.472951",
     "status": "completed"
    },
    "tags": []
   },
   "outputs": [],
   "source": [
    "users_with_rating = pd.read_csv('/kaggle/input/myanimelist-dataset/users-score-2023.csv')"
   ]
  },
  {
   "cell_type": "code",
   "execution_count": 30,
   "id": "39c495e5",
   "metadata": {
    "execution": {
     "iopub.execute_input": "2024-11-12T19:12:02.491094Z",
     "iopub.status.busy": "2024-11-12T19:12:02.490509Z",
     "iopub.status.idle": "2024-11-12T19:12:02.508537Z",
     "shell.execute_reply": "2024-11-12T19:12:02.507306Z"
    },
    "papermill": {
     "duration": 0.040127,
     "end_time": "2024-11-12T19:12:02.511266",
     "exception": false,
     "start_time": "2024-11-12T19:12:02.471139",
     "status": "completed"
    },
    "tags": []
   },
   "outputs": [
    {
     "data": {
      "text/html": [
       "<div>\n",
       "<style scoped>\n",
       "    .dataframe tbody tr th:only-of-type {\n",
       "        vertical-align: middle;\n",
       "    }\n",
       "\n",
       "    .dataframe tbody tr th {\n",
       "        vertical-align: top;\n",
       "    }\n",
       "\n",
       "    .dataframe thead th {\n",
       "        text-align: right;\n",
       "    }\n",
       "</style>\n",
       "<table border=\"1\" class=\"dataframe\">\n",
       "  <thead>\n",
       "    <tr style=\"text-align: right;\">\n",
       "      <th></th>\n",
       "      <th>user_id</th>\n",
       "      <th>Username</th>\n",
       "      <th>anime_id</th>\n",
       "      <th>Anime Title</th>\n",
       "      <th>rating</th>\n",
       "    </tr>\n",
       "  </thead>\n",
       "  <tbody>\n",
       "    <tr>\n",
       "      <th>0</th>\n",
       "      <td>1</td>\n",
       "      <td>Xinil</td>\n",
       "      <td>21</td>\n",
       "      <td>One Piece</td>\n",
       "      <td>9</td>\n",
       "    </tr>\n",
       "    <tr>\n",
       "      <th>1</th>\n",
       "      <td>1</td>\n",
       "      <td>Xinil</td>\n",
       "      <td>48</td>\n",
       "      <td>.hack//Sign</td>\n",
       "      <td>7</td>\n",
       "    </tr>\n",
       "    <tr>\n",
       "      <th>2</th>\n",
       "      <td>1</td>\n",
       "      <td>Xinil</td>\n",
       "      <td>320</td>\n",
       "      <td>A Kite</td>\n",
       "      <td>5</td>\n",
       "    </tr>\n",
       "    <tr>\n",
       "      <th>3</th>\n",
       "      <td>1</td>\n",
       "      <td>Xinil</td>\n",
       "      <td>49</td>\n",
       "      <td>Aa! Megami-sama!</td>\n",
       "      <td>8</td>\n",
       "    </tr>\n",
       "    <tr>\n",
       "      <th>4</th>\n",
       "      <td>1</td>\n",
       "      <td>Xinil</td>\n",
       "      <td>304</td>\n",
       "      <td>Aa! Megami-sama! Movie</td>\n",
       "      <td>8</td>\n",
       "    </tr>\n",
       "  </tbody>\n",
       "</table>\n",
       "</div>"
      ],
      "text/plain": [
       "   user_id Username  anime_id             Anime Title  rating\n",
       "0        1    Xinil        21               One Piece       9\n",
       "1        1    Xinil        48             .hack//Sign       7\n",
       "2        1    Xinil       320                  A Kite       5\n",
       "3        1    Xinil        49        Aa! Megami-sama!       8\n",
       "4        1    Xinil       304  Aa! Megami-sama! Movie       8"
      ]
     },
     "execution_count": 30,
     "metadata": {},
     "output_type": "execute_result"
    }
   ],
   "source": [
    "users_with_rating.head()"
   ]
  },
  {
   "cell_type": "code",
   "execution_count": 31,
   "id": "485fbc6b",
   "metadata": {
    "execution": {
     "iopub.execute_input": "2024-11-12T19:12:02.543479Z",
     "iopub.status.busy": "2024-11-12T19:12:02.543019Z",
     "iopub.status.idle": "2024-11-12T19:12:02.549113Z",
     "shell.execute_reply": "2024-11-12T19:12:02.547956Z"
    },
    "papermill": {
     "duration": 0.026142,
     "end_time": "2024-11-12T19:12:02.552594",
     "exception": false,
     "start_time": "2024-11-12T19:12:02.526452",
     "status": "completed"
    },
    "tags": []
   },
   "outputs": [
    {
     "name": "stdout",
     "output_type": "stream",
     "text": [
      "(24325191, 5)\n"
     ]
    }
   ],
   "source": [
    "print(users_with_rating.shape)"
   ]
  },
  {
   "cell_type": "code",
   "execution_count": 32,
   "id": "e3062695",
   "metadata": {
    "execution": {
     "iopub.execute_input": "2024-11-12T19:12:02.591536Z",
     "iopub.status.busy": "2024-11-12T19:12:02.590931Z",
     "iopub.status.idle": "2024-11-12T19:12:07.919346Z",
     "shell.execute_reply": "2024-11-12T19:12:07.917990Z"
    },
    "papermill": {
     "duration": 5.354328,
     "end_time": "2024-11-12T19:12:07.922287",
     "exception": false,
     "start_time": "2024-11-12T19:12:02.567959",
     "status": "completed"
    },
    "tags": []
   },
   "outputs": [
    {
     "data": {
      "text/plain": [
       "user_id          0\n",
       "Username       232\n",
       "anime_id         0\n",
       "Anime Title      0\n",
       "rating           0\n",
       "dtype: int64"
      ]
     },
     "execution_count": 32,
     "metadata": {},
     "output_type": "execute_result"
    }
   ],
   "source": [
    "users_with_rating.isnull().sum()"
   ]
  },
  {
   "cell_type": "code",
   "execution_count": 33,
   "id": "5e071276",
   "metadata": {
    "execution": {
     "iopub.execute_input": "2024-11-12T19:12:07.955575Z",
     "iopub.status.busy": "2024-11-12T19:12:07.955107Z",
     "iopub.status.idle": "2024-11-12T19:12:28.440564Z",
     "shell.execute_reply": "2024-11-12T19:12:28.439321Z"
    },
    "papermill": {
     "duration": 20.505434,
     "end_time": "2024-11-12T19:12:28.443383",
     "exception": false,
     "start_time": "2024-11-12T19:12:07.937949",
     "status": "completed"
    },
    "tags": []
   },
   "outputs": [
    {
     "data": {
      "text/plain": [
       "0"
      ]
     },
     "execution_count": 33,
     "metadata": {},
     "output_type": "execute_result"
    }
   ],
   "source": [
    "users_with_rating.duplicated().sum()"
   ]
  }
 ],
 "metadata": {
  "kaggle": {
   "accelerator": "none",
   "dataSources": [
    {
     "datasetId": 3384322,
     "sourceId": 6207733,
     "sourceType": "datasetVersion"
    }
   ],
   "dockerImageVersionId": 30786,
   "isGpuEnabled": false,
   "isInternetEnabled": false,
   "language": "python",
   "sourceType": "notebook"
  },
  "kernelspec": {
   "display_name": "Python 3 (ipykernel)",
   "language": "python",
   "name": "python3"
  },
  "language_info": {
   "codemirror_mode": {
    "name": "ipython",
    "version": 3
   },
   "file_extension": ".py",
   "mimetype": "text/x-python",
   "name": "python",
   "nbconvert_exporter": "python",
   "pygments_lexer": "ipython3",
   "version": "3.11.6"
  },
  "papermill": {
   "default_parameters": {},
   "duration": 278.306939,
   "end_time": "2024-11-12T19:14:31.964988",
   "environment_variables": {},
   "exception": null,
   "input_path": "__notebook__.ipynb",
   "output_path": "__notebook__.ipynb",
   "parameters": {},
   "start_time": "2024-11-12T19:09:53.658049",
   "version": "2.6.0"
  }
 },
 "nbformat": 4,
 "nbformat_minor": 5
}
